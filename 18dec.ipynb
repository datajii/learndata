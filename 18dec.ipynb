{
 "cells": [
  {
   "cell_type": "code",
   "execution_count": 4,
   "id": "f1c291b1",
   "metadata": {},
   "outputs": [
    {
     "name": "stdout",
     "output_type": "stream",
     "text": [
      "A Grade\n"
     ]
    }
   ],
   "source": [
    "marks=93\n",
    "if(marks>85):\n",
    "    print(\"A Grade\")\n",
    "else:\n",
    "    print(\"B Grade\")"
   ]
  },
  {
   "cell_type": "code",
   "execution_count": 9,
   "id": "e1beff99",
   "metadata": {},
   "outputs": [
    {
     "name": "stdout",
     "output_type": "stream",
     "text": [
      "Enter your marks : 50\n",
      "Need improvements\n"
     ]
    }
   ],
   "source": [
    "marks=int(input(\"Enter your marks : \"))\n",
    "if (marks>=90):\n",
    "    print(\"Excellent\")\n",
    "elif(marks>=80 and marks<=90):\n",
    "    print(\"Very Good\")\n",
    "elif(marks>=60 and marks<=80):\n",
    "    print(\"Good\")\n",
    "else:\n",
    "    print(\"Need improvements\")"
   ]
  },
  {
   "cell_type": "code",
   "execution_count": 19,
   "id": "91e6bcd6",
   "metadata": {},
   "outputs": [
    {
     "name": "stdout",
     "output_type": "stream",
     "text": [
      "jigar\n",
      "pranshu\n",
      "riddhi\n"
     ]
    }
   ],
   "source": [
    "for f in ['jigar','pranshu','riddhi','harikrupa','oracle','silavassa']:\n",
    "    if f==\"harikrupa\":\n",
    "        break\n",
    "    print(f)"
   ]
  },
  {
   "cell_type": "code",
   "execution_count": 21,
   "id": "5ba692a2",
   "metadata": {
    "scrolled": true
   },
   "outputs": [
    {
     "name": "stdout",
     "output_type": "stream",
     "text": [
      "jigar\n",
      "pranshu\n",
      "riddhi\n",
      "oracle\n",
      "silavassa\n"
     ]
    }
   ],
   "source": [
    "for f in ['jigar','pranshu','riddhi','harikrupa','oracle','silavassa']:\n",
    "    if f==\"harikrupa\":\n",
    "        continue\n",
    "    print(f)"
   ]
  },
  {
   "cell_type": "code",
   "execution_count": 23,
   "id": "6692cede",
   "metadata": {},
   "outputs": [],
   "source": [
    "#list comprehension "
   ]
  },
  {
   "cell_type": "code",
   "execution_count": 27,
   "id": "f97b0d8c",
   "metadata": {},
   "outputs": [
    {
     "data": {
      "text/plain": [
       "[2, 4, 6, 8, 10, 12, 14]"
      ]
     },
     "execution_count": 27,
     "metadata": {},
     "output_type": "execute_result"
    }
   ],
   "source": [
    "k=[i for i in[1,2,3,4,5,6,7,8,9,10,11,12,13,14,15] if i%2==0]\n",
    "k"
   ]
  },
  {
   "cell_type": "code",
   "execution_count": 29,
   "id": "fac7efae",
   "metadata": {},
   "outputs": [
    {
     "data": {
      "text/plain": [
       "[1, 3, 5, 7, 9, 11, 13, 15]"
      ]
     },
     "execution_count": 29,
     "metadata": {},
     "output_type": "execute_result"
    }
   ],
   "source": [
    "k=[i for i in[1,2,3,4,5,6,7,8,9,10,11,12,13,14,15] if i%2!=0]\n",
    "k"
   ]
  },
  {
   "cell_type": "code",
   "execution_count": 33,
   "id": "22ca994b",
   "metadata": {},
   "outputs": [
    {
     "data": {
      "text/plain": [
       "[0, 2, 4, 6, 8]"
      ]
     },
     "execution_count": 33,
     "metadata": {},
     "output_type": "execute_result"
    }
   ],
   "source": [
    "k=[i for i in range(0,10) if i%2==0]\n",
    "k"
   ]
  },
  {
   "cell_type": "code",
   "execution_count": 35,
   "id": "f8e41496",
   "metadata": {},
   "outputs": [
    {
     "data": {
      "text/plain": [
       "[1, 3, 5, 7, 9]"
      ]
     },
     "execution_count": 35,
     "metadata": {},
     "output_type": "execute_result"
    }
   ],
   "source": [
    "k=[i for i in range(0,10) if i%2!=0]\n",
    "k"
   ]
  },
  {
   "cell_type": "code",
   "execution_count": 37,
   "id": "3df5c97f",
   "metadata": {},
   "outputs": [
    {
     "data": {
      "text/plain": [
       "'PYTHON'"
      ]
     },
     "execution_count": 37,
     "metadata": {},
     "output_type": "execute_result"
    }
   ],
   "source": [
    "# string function\n",
    "\n",
    "word1=\"python\"\n",
    "word1.upper()"
   ]
  },
  {
   "cell_type": "code",
   "execution_count": 39,
   "id": "9f40ed3a",
   "metadata": {},
   "outputs": [
    {
     "data": {
      "text/plain": [
       "'python'"
      ]
     },
     "execution_count": 39,
     "metadata": {},
     "output_type": "execute_result"
    }
   ],
   "source": [
    "word1"
   ]
  },
  {
   "cell_type": "code",
   "execution_count": 42,
   "id": "0befc400",
   "metadata": {},
   "outputs": [
    {
     "data": {
      "text/plain": [
       "'JIGAR'"
      ]
     },
     "execution_count": 42,
     "metadata": {},
     "output_type": "execute_result"
    }
   ],
   "source": [
    "word1=\"jigar\"\n",
    "word1.upper()\n",
    "word1.swapcase()"
   ]
  },
  {
   "cell_type": "code",
   "execution_count": 44,
   "id": "9b1be735",
   "metadata": {},
   "outputs": [
    {
     "data": {
      "text/plain": [
       "'jIgAR'"
      ]
     },
     "execution_count": 44,
     "metadata": {},
     "output_type": "execute_result"
    }
   ],
   "source": [
    "word1=\"JiGar\"\n",
    "word1.swapcase()\n"
   ]
  },
  {
   "cell_type": "code",
   "execution_count": 46,
   "id": "d951d28a",
   "metadata": {},
   "outputs": [
    {
     "data": {
      "text/plain": [
       "'JiGar'"
      ]
     },
     "execution_count": 46,
     "metadata": {},
     "output_type": "execute_result"
    }
   ],
   "source": [
    "word1"
   ]
  },
  {
   "cell_type": "code",
   "execution_count": 49,
   "id": "9ed6a423",
   "metadata": {},
   "outputs": [
    {
     "data": {
      "text/plain": [
       "'Jigar'"
      ]
     },
     "execution_count": 49,
     "metadata": {},
     "output_type": "execute_result"
    }
   ],
   "source": [
    "word1.capitalize()"
   ]
  },
  {
   "cell_type": "code",
   "execution_count": 51,
   "id": "f0667ad1",
   "metadata": {},
   "outputs": [
    {
     "data": {
      "text/plain": [
       "'Jigar Is Software Architect'"
      ]
     },
     "execution_count": 51,
     "metadata": {},
     "output_type": "execute_result"
    }
   ],
   "source": [
    "world1=\"jigar is software architect\"\n",
    "world1.title()"
   ]
  },
  {
   "cell_type": "code",
   "execution_count": 53,
   "id": "c64ca0d0",
   "metadata": {},
   "outputs": [
    {
     "data": {
      "text/plain": [
       "['JiGar']"
      ]
     },
     "execution_count": 53,
     "metadata": {},
     "output_type": "execute_result"
    }
   ],
   "source": [
    "word1.split()"
   ]
  },
  {
   "cell_type": "code",
   "execution_count": 55,
   "id": "8f014b4e",
   "metadata": {},
   "outputs": [
    {
     "data": {
      "text/plain": [
       "['JiGar']"
      ]
     },
     "execution_count": 55,
     "metadata": {},
     "output_type": "execute_result"
    }
   ],
   "source": [
    "world1=\"jigar is software architect\"\n",
    "word1.split()"
   ]
  },
  {
   "cell_type": "code",
   "execution_count": 57,
   "id": "effe472c",
   "metadata": {},
   "outputs": [
    {
     "data": {
      "text/plain": [
       "'jigar is software architect'"
      ]
     },
     "execution_count": 57,
     "metadata": {},
     "output_type": "execute_result"
    }
   ],
   "source": [
    "world1"
   ]
  },
  {
   "cell_type": "code",
   "execution_count": 59,
   "id": "81b86bc6",
   "metadata": {},
   "outputs": [
    {
     "data": {
      "text/plain": [
       "['jigar', 'is', 'software', 'architect']"
      ]
     },
     "execution_count": 59,
     "metadata": {},
     "output_type": "execute_result"
    }
   ],
   "source": [
    "world1.split()"
   ]
  },
  {
   "cell_type": "code",
   "execution_count": 61,
   "id": "d219f4e3",
   "metadata": {},
   "outputs": [
    {
     "data": {
      "text/plain": [
       "False"
      ]
     },
     "execution_count": 61,
     "metadata": {},
     "output_type": "execute_result"
    }
   ],
   "source": [
    "word1=\"Oracle\"\n",
    "word1.isupper()"
   ]
  },
  {
   "cell_type": "code",
   "execution_count": 63,
   "id": "7e019420",
   "metadata": {},
   "outputs": [
    {
     "data": {
      "text/plain": [
       "False"
      ]
     },
     "execution_count": 63,
     "metadata": {},
     "output_type": "execute_result"
    }
   ],
   "source": [
    "word1.islower()"
   ]
  },
  {
   "cell_type": "code",
   "execution_count": 65,
   "id": "f4d22f86",
   "metadata": {},
   "outputs": [
    {
     "data": {
      "text/plain": [
       "False"
      ]
     },
     "execution_count": 65,
     "metadata": {},
     "output_type": "execute_result"
    }
   ],
   "source": [
    "word1=\"oracle\"\n",
    "word1.isupper()\n"
   ]
  },
  {
   "cell_type": "code",
   "execution_count": 67,
   "id": "6b773b31",
   "metadata": {},
   "outputs": [
    {
     "data": {
      "text/plain": [
       "True"
      ]
     },
     "execution_count": 67,
     "metadata": {},
     "output_type": "execute_result"
    }
   ],
   "source": [
    "word1=\"oracle\"\n",
    "word1.islower()"
   ]
  },
  {
   "cell_type": "code",
   "execution_count": 69,
   "id": "3567e16a",
   "metadata": {},
   "outputs": [
    {
     "data": {
      "text/plain": [
       "True"
      ]
     },
     "execution_count": 69,
     "metadata": {},
     "output_type": "execute_result"
    }
   ],
   "source": [
    "world1=\"oracle\"\n",
    "world1.isalpha()"
   ]
  },
  {
   "cell_type": "code",
   "execution_count": 71,
   "id": "2be65b66",
   "metadata": {},
   "outputs": [
    {
     "data": {
      "text/plain": [
       "'oracle'"
      ]
     },
     "execution_count": 71,
     "metadata": {},
     "output_type": "execute_result"
    }
   ],
   "source": [
    "world1"
   ]
  },
  {
   "cell_type": "code",
   "execution_count": 74,
   "id": "28f7ebd9",
   "metadata": {},
   "outputs": [
    {
     "data": {
      "text/plain": [
       "False"
      ]
     },
     "execution_count": 74,
     "metadata": {},
     "output_type": "execute_result"
    }
   ],
   "source": [
    "word1.isdigit()"
   ]
  },
  {
   "cell_type": "code",
   "execution_count": 76,
   "id": "fb5188f4",
   "metadata": {},
   "outputs": [
    {
     "data": {
      "text/plain": [
       "True"
      ]
     },
     "execution_count": 76,
     "metadata": {},
     "output_type": "execute_result"
    }
   ],
   "source": [
    "z=\"jigar1553\"\n",
    "z.isalnum()"
   ]
  },
  {
   "cell_type": "code",
   "execution_count": 78,
   "id": "ef5f193d",
   "metadata": {},
   "outputs": [
    {
     "data": {
      "text/plain": [
       "'Jigar is buying new house'"
      ]
     },
     "execution_count": 78,
     "metadata": {},
     "output_type": "execute_result"
    }
   ],
   "source": [
    "word=(\"Jigar is buying new house\")\n",
    "word"
   ]
  },
  {
   "cell_type": "code",
   "execution_count": 81,
   "id": "0fedfebc",
   "metadata": {},
   "outputs": [
    {
     "data": {
      "text/plain": [
       "False"
      ]
     },
     "execution_count": 81,
     "metadata": {},
     "output_type": "execute_result"
    }
   ],
   "source": [
    "word.startswith(\"house\")"
   ]
  },
  {
   "cell_type": "code",
   "execution_count": 84,
   "id": "a2c3d2e0",
   "metadata": {},
   "outputs": [
    {
     "data": {
      "text/plain": [
       "True"
      ]
     },
     "execution_count": 84,
     "metadata": {},
     "output_type": "execute_result"
    }
   ],
   "source": [
    "word.endswith(\"house\")"
   ]
  },
  {
   "cell_type": "code",
   "execution_count": 86,
   "id": "5881be76",
   "metadata": {},
   "outputs": [
    {
     "data": {
      "text/plain": [
       "25"
      ]
     },
     "execution_count": 86,
     "metadata": {},
     "output_type": "execute_result"
    }
   ],
   "source": [
    "len(word)"
   ]
  },
  {
   "cell_type": "code",
   "execution_count": 88,
   "id": "4a741124",
   "metadata": {},
   "outputs": [
    {
     "data": {
      "text/plain": [
       "20"
      ]
     },
     "execution_count": 88,
     "metadata": {},
     "output_type": "execute_result"
    }
   ],
   "source": [
    "word.find(\"house\")"
   ]
  },
  {
   "cell_type": "code",
   "execution_count": 90,
   "id": "3cc3c676",
   "metadata": {},
   "outputs": [
    {
     "data": {
      "text/plain": [
       "16"
      ]
     },
     "execution_count": 90,
     "metadata": {},
     "output_type": "execute_result"
    }
   ],
   "source": [
    "word.find(\"new\",10,25)"
   ]
  },
  {
   "cell_type": "code",
   "execution_count": 92,
   "id": "0a77e47b",
   "metadata": {},
   "outputs": [
    {
     "data": {
      "text/plain": [
       "3"
      ]
     },
     "execution_count": 92,
     "metadata": {},
     "output_type": "execute_result"
    }
   ],
   "source": [
    "word.count('i')"
   ]
  },
  {
   "cell_type": "code",
   "execution_count": 94,
   "id": "694af9a7",
   "metadata": {},
   "outputs": [
    {
     "data": {
      "text/plain": [
       "'Jigar is buying new house'"
      ]
     },
     "execution_count": 94,
     "metadata": {},
     "output_type": "execute_result"
    }
   ],
   "source": [
    "word"
   ]
  },
  {
   "cell_type": "code",
   "execution_count": 96,
   "id": "fa31d8c5",
   "metadata": {},
   "outputs": [
    {
     "data": {
      "text/plain": [
       "'Pranshu is buying new house'"
      ]
     },
     "execution_count": 96,
     "metadata": {},
     "output_type": "execute_result"
    }
   ],
   "source": [
    "word.replace(\"Jigar\",\"Pranshu\")"
   ]
  },
  {
   "cell_type": "code",
   "execution_count": 98,
   "id": "d42c5215",
   "metadata": {},
   "outputs": [
    {
     "data": {
      "text/plain": [
       "'Jigar is buying new house'"
      ]
     },
     "execution_count": 98,
     "metadata": {},
     "output_type": "execute_result"
    }
   ],
   "source": [
    "''.join(word)"
   ]
  },
  {
   "cell_type": "code",
   "execution_count": 99,
   "id": "84186e57",
   "metadata": {},
   "outputs": [
    {
     "data": {
      "text/plain": [
       "'J i g a r   i s   b u y i n g   n e w   h o u s e'"
      ]
     },
     "execution_count": 99,
     "metadata": {},
     "output_type": "execute_result"
    }
   ],
   "source": [
    "' '.join(word)"
   ]
  }
 ],
 "metadata": {
  "kernelspec": {
   "display_name": "Python 3 (ipykernel)",
   "language": "python",
   "name": "python3"
  },
  "language_info": {
   "codemirror_mode": {
    "name": "ipython",
    "version": 3
   },
   "file_extension": ".py",
   "mimetype": "text/x-python",
   "name": "python",
   "nbconvert_exporter": "python",
   "pygments_lexer": "ipython3",
   "version": "3.9.13"
  }
 },
 "nbformat": 4,
 "nbformat_minor": 5
}
