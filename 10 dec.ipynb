{
 "cells": [
  {
   "cell_type": "code",
   "execution_count": 1,
   "id": "fe1f4de4",
   "metadata": {},
   "outputs": [],
   "source": [
    "list1=[\"Jigar\",\"Riddhi\",\"Pranshu\",\"Silvassa\",\"Bengaluru\"]"
   ]
  },
  {
   "cell_type": "code",
   "execution_count": 3,
   "id": "381a1733",
   "metadata": {},
   "outputs": [
    {
     "data": {
      "text/plain": [
       "['Jigar', 'Riddhi', 'Pranshu', 'Silvassa', 'Bengaluru']"
      ]
     },
     "execution_count": 3,
     "metadata": {},
     "output_type": "execute_result"
    }
   ],
   "source": [
    "list1"
   ]
  },
  {
   "cell_type": "markdown",
   "id": "a31ceaa2",
   "metadata": {},
   "source": [
    "Positive Indexing starts from lefto to right 0,1,2,3....N"
   ]
  },
  {
   "cell_type": "code",
   "execution_count": 5,
   "id": "3a31f4c7",
   "metadata": {},
   "outputs": [
    {
     "data": {
      "text/plain": [
       "'Riddhi'"
      ]
     },
     "execution_count": 5,
     "metadata": {},
     "output_type": "execute_result"
    }
   ],
   "source": [
    "list1[1]"
   ]
  },
  {
   "cell_type": "code",
   "execution_count": 7,
   "id": "8efe7aa2",
   "metadata": {},
   "outputs": [
    {
     "data": {
      "text/plain": [
       "'Silvassa'"
      ]
     },
     "execution_count": 7,
     "metadata": {},
     "output_type": "execute_result"
    }
   ],
   "source": [
    "list1[3]"
   ]
  },
  {
   "cell_type": "code",
   "execution_count": 9,
   "id": "a86564cc",
   "metadata": {},
   "outputs": [
    {
     "data": {
      "text/plain": [
       "'Jigar'"
      ]
     },
     "execution_count": 9,
     "metadata": {},
     "output_type": "execute_result"
    }
   ],
   "source": [
    "list1[0]"
   ]
  },
  {
   "cell_type": "markdown",
   "id": "2f2da405",
   "metadata": {},
   "source": [
    "Negative Indexing starts from Right to left starts with -1,-2,-3,....-N"
   ]
  },
  {
   "cell_type": "code",
   "execution_count": 11,
   "id": "08a702c9",
   "metadata": {},
   "outputs": [
    {
     "data": {
      "text/plain": [
       "'Jigar'"
      ]
     },
     "execution_count": 11,
     "metadata": {},
     "output_type": "execute_result"
    }
   ],
   "source": [
    "list1[0]"
   ]
  },
  {
   "cell_type": "code",
   "execution_count": 13,
   "id": "815c4d4e",
   "metadata": {},
   "outputs": [
    {
     "data": {
      "text/plain": [
       "'Bengaluru'"
      ]
     },
     "execution_count": 13,
     "metadata": {},
     "output_type": "execute_result"
    }
   ],
   "source": [
    "list1[-1]"
   ]
  },
  {
   "cell_type": "code",
   "execution_count": 15,
   "id": "c5facb75",
   "metadata": {},
   "outputs": [
    {
     "data": {
      "text/plain": [
       "'Silvassa'"
      ]
     },
     "execution_count": 15,
     "metadata": {},
     "output_type": "execute_result"
    }
   ],
   "source": [
    "list1[-2]"
   ]
  },
  {
   "cell_type": "code",
   "execution_count": 17,
   "id": "2daaa6e7",
   "metadata": {},
   "outputs": [
    {
     "ename": "IndexError",
     "evalue": "list index out of range",
     "output_type": "error",
     "traceback": [
      "\u001b[0;31m---------------------------------------------------------------------------\u001b[0m",
      "\u001b[0;31mIndexError\u001b[0m                                Traceback (most recent call last)",
      "\u001b[0;32m/var/folders/79/c_hmcprj6h1cm6qndt4c15kh0000gn/T/ipykernel_60259/2139425184.py\u001b[0m in \u001b[0;36m<module>\u001b[0;34m\u001b[0m\n\u001b[0;32m----> 1\u001b[0;31m \u001b[0mlist1\u001b[0m\u001b[0;34m[\u001b[0m\u001b[0;34m-\u001b[0m\u001b[0;36m6\u001b[0m\u001b[0;34m]\u001b[0m\u001b[0;34m\u001b[0m\u001b[0;34m\u001b[0m\u001b[0m\n\u001b[0m",
      "\u001b[0;31mIndexError\u001b[0m: list index out of range"
     ]
    }
   ],
   "source": [
    "list1[-6]"
   ]
  },
  {
   "cell_type": "markdown",
   "id": "b604efd2",
   "metadata": {},
   "source": [
    "Negative slicing , end index is exclusive\n",
    "\n",
    "['Jigar', 'Riddhi', 'Pranshu', 'Silvassa', 'Bengaluru']\n",
    "\n",
    "-1 , -2 , -3 , -4, -5 "
   ]
  },
  {
   "cell_type": "code",
   "execution_count": 19,
   "id": "7cab65e9",
   "metadata": {},
   "outputs": [
    {
     "data": {
      "text/plain": [
       "['Jigar', 'Riddhi', 'Pranshu', 'Silvassa', 'Bengaluru']"
      ]
     },
     "execution_count": 19,
     "metadata": {},
     "output_type": "execute_result"
    }
   ],
   "source": [
    "list1"
   ]
  },
  {
   "cell_type": "code",
   "execution_count": 29,
   "id": "924bd5d4",
   "metadata": {},
   "outputs": [
    {
     "data": {
      "text/plain": [
       "['Riddhi', 'Pranshu']"
      ]
     },
     "execution_count": 29,
     "metadata": {},
     "output_type": "execute_result"
    }
   ],
   "source": [
    "list1[-4:-2]"
   ]
  },
  {
   "cell_type": "code",
   "execution_count": 31,
   "id": "593662e8",
   "metadata": {},
   "outputs": [
    {
     "data": {
      "text/plain": [
       "['Jigar', 'Riddhi', 'Pranshu']"
      ]
     },
     "execution_count": 31,
     "metadata": {},
     "output_type": "execute_result"
    }
   ],
   "source": [
    "list1[-5:-2]"
   ]
  },
  {
   "cell_type": "code",
   "execution_count": 34,
   "id": "b41db5ad",
   "metadata": {},
   "outputs": [
    {
     "data": {
      "text/plain": [
       "['Jigar', 'Riddhi', 'Pranshu', 'Silvassa', 'Bengaluru']"
      ]
     },
     "execution_count": 34,
     "metadata": {},
     "output_type": "execute_result"
    }
   ],
   "source": [
    "list1[-5:]"
   ]
  },
  {
   "cell_type": "code",
   "execution_count": 36,
   "id": "16d217d8",
   "metadata": {},
   "outputs": [
    {
     "data": {
      "text/plain": [
       "['Jigar', 'Riddhi', 'Pranshu', 'Silvassa']"
      ]
     },
     "execution_count": 36,
     "metadata": {},
     "output_type": "execute_result"
    }
   ],
   "source": [
    "list1[:-1]"
   ]
  },
  {
   "cell_type": "code",
   "execution_count": 38,
   "id": "6b8113f9",
   "metadata": {},
   "outputs": [],
   "source": [
    "list1=['Jigar', 'Riddhi', 'Pranshu', 'Silvassa', 'Bengaluru']"
   ]
  },
  {
   "cell_type": "code",
   "execution_count": 40,
   "id": "4494fdf7",
   "metadata": {},
   "outputs": [
    {
     "data": {
      "text/plain": [
       "['Jigar', 'Riddhi', 'Pranshu', 'Silvassa', 'Bengaluru']"
      ]
     },
     "execution_count": 40,
     "metadata": {},
     "output_type": "execute_result"
    }
   ],
   "source": [
    "list1"
   ]
  },
  {
   "cell_type": "code",
   "execution_count": 43,
   "id": "4caf2049",
   "metadata": {},
   "outputs": [
    {
     "ename": "AttributeError",
     "evalue": "'list' object has no attribute 'len'",
     "output_type": "error",
     "traceback": [
      "\u001b[0;31m---------------------------------------------------------------------------\u001b[0m",
      "\u001b[0;31mAttributeError\u001b[0m                            Traceback (most recent call last)",
      "\u001b[0;32m/var/folders/79/c_hmcprj6h1cm6qndt4c15kh0000gn/T/ipykernel_60259/3411517352.py\u001b[0m in \u001b[0;36m<module>\u001b[0;34m\u001b[0m\n\u001b[0;32m----> 1\u001b[0;31m \u001b[0mlist1\u001b[0m\u001b[0;34m.\u001b[0m\u001b[0mlen\u001b[0m\u001b[0;34m(\u001b[0m\u001b[0;34m)\u001b[0m\u001b[0;34m\u001b[0m\u001b[0;34m\u001b[0m\u001b[0m\n\u001b[0m",
      "\u001b[0;31mAttributeError\u001b[0m: 'list' object has no attribute 'len'"
     ]
    }
   ],
   "source": [
    "list1.len()"
   ]
  },
  {
   "cell_type": "code",
   "execution_count": 45,
   "id": "5697f135",
   "metadata": {},
   "outputs": [],
   "source": [
    "list1.append(\"Naroli\")"
   ]
  },
  {
   "cell_type": "code",
   "execution_count": 47,
   "id": "a9e36a2c",
   "metadata": {},
   "outputs": [
    {
     "data": {
      "text/plain": [
       "['Jigar', 'Riddhi', 'Pranshu', 'Silvassa', 'Bengaluru', 'Naroli', 'Naroli']"
      ]
     },
     "execution_count": 47,
     "metadata": {},
     "output_type": "execute_result"
    }
   ],
   "source": [
    "list1"
   ]
  },
  {
   "cell_type": "code",
   "execution_count": 49,
   "id": "5cf2935a",
   "metadata": {},
   "outputs": [
    {
     "data": {
      "text/plain": [
       "7"
      ]
     },
     "execution_count": 49,
     "metadata": {},
     "output_type": "execute_result"
    }
   ],
   "source": [
    "len(list1)"
   ]
  },
  {
   "cell_type": "code",
   "execution_count": 52,
   "id": "d5cbd4cf",
   "metadata": {},
   "outputs": [],
   "source": [
    "list1.append(\"Surat\")"
   ]
  },
  {
   "cell_type": "code",
   "execution_count": 54,
   "id": "415619e1",
   "metadata": {},
   "outputs": [
    {
     "data": {
      "text/plain": [
       "['Jigar',\n",
       " 'Riddhi',\n",
       " 'Pranshu',\n",
       " 'Silvassa',\n",
       " 'Bengaluru',\n",
       " 'Naroli',\n",
       " 'Naroli',\n",
       " 'Surat',\n",
       " 'Surat']"
      ]
     },
     "execution_count": 54,
     "metadata": {},
     "output_type": "execute_result"
    }
   ],
   "source": [
    "list1"
   ]
  },
  {
   "cell_type": "code",
   "execution_count": 55,
   "id": "9ad3144e",
   "metadata": {},
   "outputs": [],
   "source": [
    "list1.sort()"
   ]
  },
  {
   "cell_type": "code",
   "execution_count": 57,
   "id": "af64d4b3",
   "metadata": {},
   "outputs": [
    {
     "data": {
      "text/plain": [
       "['Bengaluru',\n",
       " 'Jigar',\n",
       " 'Naroli',\n",
       " 'Naroli',\n",
       " 'Pranshu',\n",
       " 'Riddhi',\n",
       " 'Silvassa',\n",
       " 'Surat',\n",
       " 'Surat']"
      ]
     },
     "execution_count": 57,
     "metadata": {},
     "output_type": "execute_result"
    }
   ],
   "source": [
    "list1"
   ]
  },
  {
   "cell_type": "code",
   "execution_count": 59,
   "id": "61c4c3ac",
   "metadata": {},
   "outputs": [],
   "source": [
    "list1.reverse()"
   ]
  },
  {
   "cell_type": "code",
   "execution_count": 61,
   "id": "58bd1330",
   "metadata": {},
   "outputs": [
    {
     "data": {
      "text/plain": [
       "['Bengaluru',\n",
       " 'Jigar',\n",
       " 'Naroli',\n",
       " 'Naroli',\n",
       " 'Pranshu',\n",
       " 'Riddhi',\n",
       " 'Silvassa',\n",
       " 'Surat',\n",
       " 'Surat']"
      ]
     },
     "execution_count": 61,
     "metadata": {},
     "output_type": "execute_result"
    }
   ],
   "source": [
    "list1"
   ]
  },
  {
   "cell_type": "code",
   "execution_count": 63,
   "id": "5ddd29df",
   "metadata": {},
   "outputs": [
    {
     "data": {
      "text/plain": [
       "['Bengaluru',\n",
       " 'Jigar',\n",
       " 'Naroli',\n",
       " 'Naroli',\n",
       " 'Pranshu',\n",
       " 'Riddhi',\n",
       " 'Silvassa',\n",
       " 'Surat',\n",
       " 'Surat']"
      ]
     },
     "execution_count": 63,
     "metadata": {},
     "output_type": "execute_result"
    }
   ],
   "source": [
    "list1"
   ]
  },
  {
   "cell_type": "code",
   "execution_count": 65,
   "id": "b25f9dd4",
   "metadata": {},
   "outputs": [
    {
     "data": {
      "text/plain": [
       "['Bengaluru',\n",
       " 'Jigar',\n",
       " 'Naroli',\n",
       " 'Naroli',\n",
       " 'Pranshu',\n",
       " 'Riddhi',\n",
       " 'Silvassa',\n",
       " 'Surat',\n",
       " 'Surat']"
      ]
     },
     "execution_count": 65,
     "metadata": {},
     "output_type": "execute_result"
    }
   ],
   "source": [
    "list1.reverse()\n",
    "list1"
   ]
  },
  {
   "cell_type": "code",
   "execution_count": 67,
   "id": "311a5d60",
   "metadata": {},
   "outputs": [
    {
     "data": {
      "text/plain": [
       "'Surat'"
      ]
     },
     "execution_count": 67,
     "metadata": {},
     "output_type": "execute_result"
    }
   ],
   "source": [
    "list1.pop()"
   ]
  },
  {
   "cell_type": "code",
   "execution_count": 70,
   "id": "ca20d803",
   "metadata": {},
   "outputs": [
    {
     "data": {
      "text/plain": [
       "['Bengaluru', 'Jigar', 'Naroli', 'Naroli', 'Pranshu', 'Riddhi', 'Silvassa']"
      ]
     },
     "execution_count": 70,
     "metadata": {},
     "output_type": "execute_result"
    }
   ],
   "source": [
    "list1"
   ]
  },
  {
   "cell_type": "code",
   "execution_count": 72,
   "id": "dec5c70c",
   "metadata": {},
   "outputs": [],
   "source": [
    "list1.insert(1,\"Pragnya\")"
   ]
  },
  {
   "cell_type": "code",
   "execution_count": 74,
   "id": "83d7043b",
   "metadata": {},
   "outputs": [
    {
     "data": {
      "text/plain": [
       "['Bengaluru',\n",
       " 'Pragnya',\n",
       " 'Pragnya',\n",
       " 'Jigar',\n",
       " 'Naroli',\n",
       " 'Naroli',\n",
       " 'Pranshu',\n",
       " 'Riddhi',\n",
       " 'Silvassa']"
      ]
     },
     "execution_count": 74,
     "metadata": {},
     "output_type": "execute_result"
    }
   ],
   "source": [
    "list1"
   ]
  },
  {
   "cell_type": "code",
   "execution_count": 76,
   "id": "8409e39e",
   "metadata": {},
   "outputs": [
    {
     "data": {
      "text/plain": [
       "'Naroli'"
      ]
     },
     "execution_count": 76,
     "metadata": {},
     "output_type": "execute_result"
    }
   ],
   "source": [
    "list1.pop(3)"
   ]
  },
  {
   "cell_type": "code",
   "execution_count": 78,
   "id": "3bf1040c",
   "metadata": {},
   "outputs": [
    {
     "data": {
      "text/plain": [
       "['Jigar',\n",
       " 'Jigar',\n",
       " 'Bengaluru',\n",
       " 'Pragnya',\n",
       " 'Pragnya',\n",
       " 'Naroli',\n",
       " 'Pranshu',\n",
       " 'Riddhi',\n",
       " 'Silvassa']"
      ]
     },
     "execution_count": 78,
     "metadata": {},
     "output_type": "execute_result"
    }
   ],
   "source": [
    "list1.insert(0,\"Jigar\")\n",
    "list1"
   ]
  },
  {
   "cell_type": "code",
   "execution_count": 80,
   "id": "bc23e51e",
   "metadata": {},
   "outputs": [
    {
     "data": {
      "text/plain": [
       "['Bengaluru', 'Pragnya', 'Pragnya', 'Naroli', 'Pranshu', 'Riddhi', 'Silvassa']"
      ]
     },
     "execution_count": 80,
     "metadata": {},
     "output_type": "execute_result"
    }
   ],
   "source": [
    "list1.pop(0)\n",
    "list1"
   ]
  },
  {
   "cell_type": "code",
   "execution_count": 82,
   "id": "32956420",
   "metadata": {},
   "outputs": [],
   "source": [
    "list1.insert(1,\"jigar\")"
   ]
  },
  {
   "cell_type": "code",
   "execution_count": 85,
   "id": "b14963dd",
   "metadata": {},
   "outputs": [
    {
     "data": {
      "text/plain": [
       "['Bengaluru',\n",
       " 'jigar',\n",
       " 'jigar',\n",
       " 'Pragnya',\n",
       " 'Pragnya',\n",
       " 'Naroli',\n",
       " 'Pranshu',\n",
       " 'Riddhi',\n",
       " 'Silvassa']"
      ]
     },
     "execution_count": 85,
     "metadata": {},
     "output_type": "execute_result"
    }
   ],
   "source": [
    "list1"
   ]
  },
  {
   "cell_type": "code",
   "execution_count": 87,
   "id": "a1f64566",
   "metadata": {},
   "outputs": [
    {
     "data": {
      "text/plain": [
       "['Bengaluru',\n",
       " 'jigar',\n",
       " 'jigar',\n",
       " 'Pragnya',\n",
       " 'Pragnya',\n",
       " 'Naroli',\n",
       " 'Pranshu',\n",
       " 'Riddhi',\n",
       " 'Silvassa']"
      ]
     },
     "execution_count": 87,
     "metadata": {},
     "output_type": "execute_result"
    }
   ],
   "source": [
    "list1"
   ]
  },
  {
   "cell_type": "code",
   "execution_count": 88,
   "id": "5f612e51",
   "metadata": {},
   "outputs": [],
   "source": [
    "list1.remove(\"jigar\")"
   ]
  },
  {
   "cell_type": "code",
   "execution_count": 7,
   "id": "5a81ee43",
   "metadata": {},
   "outputs": [
    {
     "ename": "NameError",
     "evalue": "name 'list1' is not defined",
     "output_type": "error",
     "traceback": [
      "\u001b[0;31m---------------------------------------------------------------------------\u001b[0m",
      "\u001b[0;31mNameError\u001b[0m                                 Traceback (most recent call last)",
      "\u001b[0;32m/var/folders/79/c_hmcprj6h1cm6qndt4c15kh0000gn/T/ipykernel_14710/866546473.py\u001b[0m in \u001b[0;36m<module>\u001b[0;34m\u001b[0m\n\u001b[0;32m----> 1\u001b[0;31m \u001b[0mlist1\u001b[0m\u001b[0;34m\u001b[0m\u001b[0;34m\u001b[0m\u001b[0m\n\u001b[0m",
      "\u001b[0;31mNameError\u001b[0m: name 'list1' is not defined"
     ]
    }
   ],
   "source": [
    "list1"
   ]
  },
  {
   "cell_type": "code",
   "execution_count": 9,
   "id": "ed58be53",
   "metadata": {},
   "outputs": [
    {
     "data": {
      "text/plain": [
       "['Jigar', 'Riddhi', 'Pranshu', 'Silvassa', 'Bengaluru']"
      ]
     },
     "execution_count": 9,
     "metadata": {},
     "output_type": "execute_result"
    }
   ],
   "source": [
    "list1=[\"Jigar\",\"Riddhi\",\"Pranshu\",\"Silvassa\",\"Bengaluru\"]\n",
    "list1"
   ]
  },
  {
   "cell_type": "code",
   "execution_count": 13,
   "id": "0a421647",
   "metadata": {},
   "outputs": [
    {
     "data": {
      "text/plain": [
       "['Jigar',\n",
       " 'Naroli',\n",
       " 'Naroli',\n",
       " 'Naroli',\n",
       " 'Riddhi',\n",
       " 'Pranshu',\n",
       " 'Silvassa',\n",
       " 'Bengaluru']"
      ]
     },
     "execution_count": 13,
     "metadata": {},
     "output_type": "execute_result"
    }
   ],
   "source": [
    "list1.insert(1,\"Naroli\")\n",
    "list1"
   ]
  },
  {
   "cell_type": "code",
   "execution_count": 15,
   "id": "1d5708d8",
   "metadata": {},
   "outputs": [
    {
     "data": {
      "text/plain": [
       "['Jigar',\n",
       " 'Naroli',\n",
       " 'Naroli',\n",
       " 'Naroli',\n",
       " 'Riddhi',\n",
       " 'Pranshu',\n",
       " 'Silvassa',\n",
       " 'Bengaluru',\n",
       " 'Vapi',\n",
       " 'Surat',\n",
       " 'Vapi',\n",
       " 'Surat']"
      ]
     },
     "execution_count": 15,
     "metadata": {},
     "output_type": "execute_result"
    }
   ],
   "source": [
    "list1.extend([\"Vapi\",\"Surat\"])\n",
    "list1"
   ]
  },
  {
   "cell_type": "code",
   "execution_count": 17,
   "id": "982135ef",
   "metadata": {},
   "outputs": [
    {
     "data": {
      "text/plain": [
       "9"
      ]
     },
     "execution_count": 17,
     "metadata": {},
     "output_type": "execute_result"
    }
   ],
   "source": [
    "list1.index(\"Surat\")"
   ]
  },
  {
   "cell_type": "code",
   "execution_count": 21,
   "id": "8b57a38b",
   "metadata": {},
   "outputs": [
    {
     "data": {
      "text/plain": [
       "['Jigar',\n",
       " 'Naroli',\n",
       " 'Naroli',\n",
       " 'Naroli',\n",
       " 'Riddhi',\n",
       " 'Pranshu',\n",
       " 'Silvassa',\n",
       " 'Bengaluru',\n",
       " 'Vapi',\n",
       " 'Mumbai',\n",
       " 'Vapi',\n",
       " 'Surat']"
      ]
     },
     "execution_count": 21,
     "metadata": {},
     "output_type": "execute_result"
    }
   ],
   "source": [
    "list1[9]=\"Mumbai\"\n",
    "list1"
   ]
  },
  {
   "cell_type": "code",
   "execution_count": 23,
   "id": "476ddca8",
   "metadata": {},
   "outputs": [
    {
     "data": {
      "text/plain": [
       "['Jigar', 'Riddhi', 'Pranshu', 'Silvassa', 'Bengaluru']"
      ]
     },
     "execution_count": 23,
     "metadata": {},
     "output_type": "execute_result"
    }
   ],
   "source": [
    "list1=[\"Jigar\",\"Riddhi\",\"Pranshu\",\"Silvassa\",\"Bengaluru\"]\n",
    "list1"
   ]
  },
  {
   "cell_type": "code",
   "execution_count": 27,
   "id": "23209306",
   "metadata": {},
   "outputs": [
    {
     "data": {
      "text/plain": [
       "1"
      ]
     },
     "execution_count": 27,
     "metadata": {},
     "output_type": "execute_result"
    }
   ],
   "source": [
    "list1.index(\"Riddhi\")"
   ]
  },
  {
   "cell_type": "code",
   "execution_count": 30,
   "id": "39104021",
   "metadata": {},
   "outputs": [
    {
     "data": {
      "text/plain": [
       "4"
      ]
     },
     "execution_count": 30,
     "metadata": {},
     "output_type": "execute_result"
    }
   ],
   "source": [
    "list1.index(\"Bengaluru\")"
   ]
  },
  {
   "cell_type": "code",
   "execution_count": 32,
   "id": "ca3ee16a",
   "metadata": {},
   "outputs": [
    {
     "data": {
      "text/plain": [
       "['Jigar', 'Riddhi', 'Pranshu', 'Silvassa', 'Surat']"
      ]
     },
     "execution_count": 32,
     "metadata": {},
     "output_type": "execute_result"
    }
   ],
   "source": [
    "list1[4]=\"Surat\"\n",
    "list1"
   ]
  },
  {
   "cell_type": "code",
   "execution_count": 36,
   "id": "38095b8f",
   "metadata": {},
   "outputs": [
    {
     "data": {
      "text/plain": [
       "[]"
      ]
     },
     "execution_count": 36,
     "metadata": {},
     "output_type": "execute_result"
    }
   ],
   "source": [
    "list1.clear()\n",
    "list1"
   ]
  },
  {
   "cell_type": "code",
   "execution_count": 38,
   "id": "831e19ba",
   "metadata": {},
   "outputs": [
    {
     "data": {
      "text/plain": [
       "['Jigar', 'Riddhi', 'Pranshu', 'Silvassa', 'Bengaluru']"
      ]
     },
     "execution_count": 38,
     "metadata": {},
     "output_type": "execute_result"
    }
   ],
   "source": [
    "list1=[\"Jigar\",\"Riddhi\",\"Pranshu\",\"Silvassa\",\"Bengaluru\"]\n",
    "list1"
   ]
  },
  {
   "cell_type": "code",
   "execution_count": 40,
   "id": "2973d8b2",
   "metadata": {},
   "outputs": [
    {
     "ename": "NameError",
     "evalue": "name 'list1' is not defined",
     "output_type": "error",
     "traceback": [
      "\u001b[0;31m---------------------------------------------------------------------------\u001b[0m",
      "\u001b[0;31mNameError\u001b[0m                                 Traceback (most recent call last)",
      "\u001b[0;32m/var/folders/79/c_hmcprj6h1cm6qndt4c15kh0000gn/T/ipykernel_14710/51735647.py\u001b[0m in \u001b[0;36m<module>\u001b[0;34m\u001b[0m\n\u001b[0;32m----> 1\u001b[0;31m \u001b[0;32mdel\u001b[0m \u001b[0mlist1\u001b[0m\u001b[0;34m\u001b[0m\u001b[0;34m\u001b[0m\u001b[0m\n\u001b[0m",
      "\u001b[0;31mNameError\u001b[0m: name 'list1' is not defined"
     ]
    }
   ],
   "source": [
    "del list1"
   ]
  },
  {
   "cell_type": "code",
   "execution_count": 41,
   "id": "95ccb8be",
   "metadata": {},
   "outputs": [
    {
     "ename": "NameError",
     "evalue": "name 'list1' is not defined",
     "output_type": "error",
     "traceback": [
      "\u001b[0;31m---------------------------------------------------------------------------\u001b[0m",
      "\u001b[0;31mNameError\u001b[0m                                 Traceback (most recent call last)",
      "\u001b[0;32m/var/folders/79/c_hmcprj6h1cm6qndt4c15kh0000gn/T/ipykernel_14710/866546473.py\u001b[0m in \u001b[0;36m<module>\u001b[0;34m\u001b[0m\n\u001b[0;32m----> 1\u001b[0;31m \u001b[0mlist1\u001b[0m\u001b[0;34m\u001b[0m\u001b[0;34m\u001b[0m\u001b[0m\n\u001b[0m",
      "\u001b[0;31mNameError\u001b[0m: name 'list1' is not defined"
     ]
    }
   ],
   "source": [
    "list1"
   ]
  }
 ],
 "metadata": {
  "kernelspec": {
   "display_name": "Python 3 (ipykernel)",
   "language": "python",
   "name": "python3"
  },
  "language_info": {
   "codemirror_mode": {
    "name": "ipython",
    "version": 3
   },
   "file_extension": ".py",
   "mimetype": "text/x-python",
   "name": "python",
   "nbconvert_exporter": "python",
   "pygments_lexer": "ipython3",
   "version": "3.9.13"
  }
 },
 "nbformat": 4,
 "nbformat_minor": 5
}
