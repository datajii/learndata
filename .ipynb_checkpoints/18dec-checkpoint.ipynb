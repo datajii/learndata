{
 "cells": [
  {
   "cell_type": "code",
   "execution_count": 4,
   "id": "cbbc5156",
   "metadata": {},
   "outputs": [
    {
     "name": "stdout",
     "output_type": "stream",
     "text": [
      "A Grade\n"
     ]
    }
   ],
   "source": [
    "marks=93\n",
    "if(marks>85):\n",
    "    print(\"A Grade\")\n",
    "else:\n",
    "    print(\"B Grade\")"
   ]
  },
  {
   "cell_type": "code",
   "execution_count": 9,
   "id": "3f4764ea",
   "metadata": {},
   "outputs": [
    {
     "name": "stdout",
     "output_type": "stream",
     "text": [
      "Enter your marks : 50\n",
      "Need improvements\n"
     ]
    }
   ],
   "source": [
    "marks=int(input(\"Enter your marks : \"))\n",
    "if (marks>=90):\n",
    "    print(\"Excellent\")\n",
    "elif(marks>=80 and marks<=90):\n",
    "    print(\"Very Good\")\n",
    "elif(marks>=60 and marks<=80):\n",
    "    print(\"Good\")\n",
    "else:\n",
    "    print(\"Need improvements\")"
   ]
  },
  {
   "cell_type": "code",
   "execution_count": 19,
   "id": "80a1b028",
   "metadata": {},
   "outputs": [
    {
     "name": "stdout",
     "output_type": "stream",
     "text": [
      "jigar\n",
      "pranshu\n",
      "riddhi\n"
     ]
    }
   ],
   "source": [
    "for f in ['jigar','pranshu','riddhi','harikrupa','oracle','silavassa']:\n",
    "    if f==\"harikrupa\":\n",
    "        break\n",
    "    print(f)"
   ]
  },
  {
   "cell_type": "code",
   "execution_count": 21,
   "id": "fd76d631",
   "metadata": {
    "scrolled": true
   },
   "outputs": [
    {
     "name": "stdout",
     "output_type": "stream",
     "text": [
      "jigar\n",
      "pranshu\n",
      "riddhi\n",
      "oracle\n",
      "silavassa\n"
     ]
    }
   ],
   "source": [
    "for f in ['jigar','pranshu','riddhi','harikrupa','oracle','silavassa']:\n",
    "    if f==\"harikrupa\":\n",
    "        continue\n",
    "    print(f)"
   ]
  },
  {
   "cell_type": "code",
   "execution_count": 23,
   "id": "fe49352c",
   "metadata": {},
   "outputs": [],
   "source": [
    "#list comprehension "
   ]
  },
  {
   "cell_type": "code",
   "execution_count": 27,
   "id": "143aa530",
   "metadata": {},
   "outputs": [
    {
     "data": {
      "text/plain": [
       "[2, 4, 6, 8, 10, 12, 14]"
      ]
     },
     "execution_count": 27,
     "metadata": {},
     "output_type": "execute_result"
    }
   ],
   "source": [
    "k=[i for i in[1,2,3,4,5,6,7,8,9,10,11,12,13,14,15] if i%2==0]\n",
    "k"
   ]
  },
  {
   "cell_type": "code",
   "execution_count": 29,
   "id": "9cb7d7dd",
   "metadata": {},
   "outputs": [
    {
     "data": {
      "text/plain": [
       "[1, 3, 5, 7, 9, 11, 13, 15]"
      ]
     },
     "execution_count": 29,
     "metadata": {},
     "output_type": "execute_result"
    }
   ],
   "source": [
    "k=[i for i in[1,2,3,4,5,6,7,8,9,10,11,12,13,14,15] if i%2!=0]\n",
    "k"
   ]
  },
  {
   "cell_type": "code",
   "execution_count": 33,
   "id": "a5cfd19d",
   "metadata": {},
   "outputs": [
    {
     "data": {
      "text/plain": [
       "[0, 2, 4, 6, 8]"
      ]
     },
     "execution_count": 33,
     "metadata": {},
     "output_type": "execute_result"
    }
   ],
   "source": [
    "k=[i for i in range(0,10) if i%2==0]\n",
    "k"
   ]
  },
  {
   "cell_type": "code",
   "execution_count": 35,
   "id": "dc27d2b2",
   "metadata": {},
   "outputs": [
    {
     "data": {
      "text/plain": [
       "[1, 3, 5, 7, 9]"
      ]
     },
     "execution_count": 35,
     "metadata": {},
     "output_type": "execute_result"
    }
   ],
   "source": [
    "k=[i for i in range(0,10) if i%2!=0]\n",
    "k"
   ]
  },
  {
   "cell_type": "code",
   "execution_count": 37,
   "id": "d0d7297c",
   "metadata": {},
   "outputs": [
    {
     "data": {
      "text/plain": [
       "'PYTHON'"
      ]
     },
     "execution_count": 37,
     "metadata": {},
     "output_type": "execute_result"
    }
   ],
   "source": [
    "# string function\n",
    "\n",
    "word1=\"python\"\n",
    "word1.upper()"
   ]
  },
  {
   "cell_type": "code",
   "execution_count": 39,
   "id": "93f77223",
   "metadata": {},
   "outputs": [
    {
     "data": {
      "text/plain": [
       "'python'"
      ]
     },
     "execution_count": 39,
     "metadata": {},
     "output_type": "execute_result"
    }
   ],
   "source": [
    "word1"
   ]
  },
  {
   "cell_type": "code",
   "execution_count": 42,
   "id": "000178e3",
   "metadata": {},
   "outputs": [
    {
     "data": {
      "text/plain": [
       "'JIGAR'"
      ]
     },
     "execution_count": 42,
     "metadata": {},
     "output_type": "execute_result"
    }
   ],
   "source": [
    "word1=\"jigar\"\n",
    "word1.upper()\n",
    "word1.swapcase()"
   ]
  },
  {
   "cell_type": "code",
   "execution_count": 44,
   "id": "c07b2458",
   "metadata": {},
   "outputs": [
    {
     "data": {
      "text/plain": [
       "'jIgAR'"
      ]
     },
     "execution_count": 44,
     "metadata": {},
     "output_type": "execute_result"
    }
   ],
   "source": [
    "word1=\"JiGar\"\n",
    "word1.swapcase()\n"
   ]
  },
  {
   "cell_type": "code",
   "execution_count": 46,
   "id": "4239a4af",
   "metadata": {},
   "outputs": [
    {
     "data": {
      "text/plain": [
       "'JiGar'"
      ]
     },
     "execution_count": 46,
     "metadata": {},
     "output_type": "execute_result"
    }
   ],
   "source": [
    "word1"
   ]
  },
  {
   "cell_type": "code",
   "execution_count": 49,
   "id": "09b820b0",
   "metadata": {},
   "outputs": [
    {
     "data": {
      "text/plain": [
       "'Jigar'"
      ]
     },
     "execution_count": 49,
     "metadata": {},
     "output_type": "execute_result"
    }
   ],
   "source": [
    "word1.capitalize()"
   ]
  },
  {
   "cell_type": "code",
   "execution_count": 51,
   "id": "cbac663e",
   "metadata": {},
   "outputs": [
    {
     "data": {
      "text/plain": [
       "'Jigar Is Software Architect'"
      ]
     },
     "execution_count": 51,
     "metadata": {},
     "output_type": "execute_result"
    }
   ],
   "source": [
    "world1=\"jigar is software architect\"\n",
    "world1.title()"
   ]
  },
  {
   "cell_type": "code",
   "execution_count": 53,
   "id": "551fefd8",
   "metadata": {},
   "outputs": [
    {
     "data": {
      "text/plain": [
       "['JiGar']"
      ]
     },
     "execution_count": 53,
     "metadata": {},
     "output_type": "execute_result"
    }
   ],
   "source": [
    "word1.split()"
   ]
  },
  {
   "cell_type": "code",
   "execution_count": 55,
   "id": "fab31578",
   "metadata": {},
   "outputs": [
    {
     "data": {
      "text/plain": [
       "['JiGar']"
      ]
     },
     "execution_count": 55,
     "metadata": {},
     "output_type": "execute_result"
    }
   ],
   "source": [
    "world1=\"jigar is software architect\"\n",
    "word1.split()"
   ]
  },
  {
   "cell_type": "code",
   "execution_count": 57,
   "id": "08b21ffa",
   "metadata": {},
   "outputs": [
    {
     "data": {
      "text/plain": [
       "'jigar is software architect'"
      ]
     },
     "execution_count": 57,
     "metadata": {},
     "output_type": "execute_result"
    }
   ],
   "source": [
    "world1"
   ]
  },
  {
   "cell_type": "code",
   "execution_count": 59,
   "id": "79ace643",
   "metadata": {},
   "outputs": [
    {
     "data": {
      "text/plain": [
       "['jigar', 'is', 'software', 'architect']"
      ]
     },
     "execution_count": 59,
     "metadata": {},
     "output_type": "execute_result"
    }
   ],
   "source": [
    "world1.split()"
   ]
  },
  {
   "cell_type": "code",
   "execution_count": 61,
   "id": "d74c35f5",
   "metadata": {},
   "outputs": [
    {
     "data": {
      "text/plain": [
       "False"
      ]
     },
     "execution_count": 61,
     "metadata": {},
     "output_type": "execute_result"
    }
   ],
   "source": [
    "word1=\"Oracle\"\n",
    "word1.isupper()"
   ]
  },
  {
   "cell_type": "code",
   "execution_count": 63,
   "id": "d0adfa0a",
   "metadata": {},
   "outputs": [
    {
     "data": {
      "text/plain": [
       "False"
      ]
     },
     "execution_count": 63,
     "metadata": {},
     "output_type": "execute_result"
    }
   ],
   "source": [
    "word1.islower()"
   ]
  },
  {
   "cell_type": "code",
   "execution_count": 65,
   "id": "b80fe612",
   "metadata": {},
   "outputs": [
    {
     "data": {
      "text/plain": [
       "False"
      ]
     },
     "execution_count": 65,
     "metadata": {},
     "output_type": "execute_result"
    }
   ],
   "source": [
    "word1=\"oracle\"\n",
    "word1.isupper()\n"
   ]
  },
  {
   "cell_type": "code",
   "execution_count": 67,
   "id": "336031b7",
   "metadata": {},
   "outputs": [
    {
     "data": {
      "text/plain": [
       "True"
      ]
     },
     "execution_count": 67,
     "metadata": {},
     "output_type": "execute_result"
    }
   ],
   "source": [
    "word1=\"oracle\"\n",
    "word1.islower()"
   ]
  },
  {
   "cell_type": "code",
   "execution_count": 69,
   "id": "28299367",
   "metadata": {},
   "outputs": [
    {
     "data": {
      "text/plain": [
       "True"
      ]
     },
     "execution_count": 69,
     "metadata": {},
     "output_type": "execute_result"
    }
   ],
   "source": [
    "world1=\"oracle\"\n",
    "world1.isalpha()"
   ]
  },
  {
   "cell_type": "code",
   "execution_count": 71,
   "id": "18045534",
   "metadata": {},
   "outputs": [
    {
     "data": {
      "text/plain": [
       "'oracle'"
      ]
     },
     "execution_count": 71,
     "metadata": {},
     "output_type": "execute_result"
    }
   ],
   "source": [
    "world1"
   ]
  },
  {
   "cell_type": "code",
   "execution_count": 74,
   "id": "ed186bcd",
   "metadata": {},
   "outputs": [
    {
     "data": {
      "text/plain": [
       "False"
      ]
     },
     "execution_count": 74,
     "metadata": {},
     "output_type": "execute_result"
    }
   ],
   "source": [
    "word1.isdigit()"
   ]
  },
  {
   "cell_type": "code",
   "execution_count": 76,
   "id": "77be7b21",
   "metadata": {},
   "outputs": [
    {
     "data": {
      "text/plain": [
       "True"
      ]
     },
     "execution_count": 76,
     "metadata": {},
     "output_type": "execute_result"
    }
   ],
   "source": [
    "z=\"jigar1553\"\n",
    "z.isalnum()"
   ]
  },
  {
   "cell_type": "code",
   "execution_count": 78,
   "id": "adbdbb38",
   "metadata": {},
   "outputs": [
    {
     "data": {
      "text/plain": [
       "'Jigar is buying new house'"
      ]
     },
     "execution_count": 78,
     "metadata": {},
     "output_type": "execute_result"
    }
   ],
   "source": [
    "word=(\"Jigar is buying new house\")\n",
    "word"
   ]
  },
  {
   "cell_type": "code",
   "execution_count": 81,
   "id": "85981b15",
   "metadata": {},
   "outputs": [
    {
     "data": {
      "text/plain": [
       "False"
      ]
     },
     "execution_count": 81,
     "metadata": {},
     "output_type": "execute_result"
    }
   ],
   "source": [
    "word.startswith(\"house\")"
   ]
  },
  {
   "cell_type": "code",
   "execution_count": 84,
   "id": "17670864",
   "metadata": {},
   "outputs": [
    {
     "data": {
      "text/plain": [
       "True"
      ]
     },
     "execution_count": 84,
     "metadata": {},
     "output_type": "execute_result"
    }
   ],
   "source": [
    "word.endswith(\"house\")"
   ]
  },
  {
   "cell_type": "code",
   "execution_count": 86,
   "id": "c0c795fe",
   "metadata": {},
   "outputs": [
    {
     "data": {
      "text/plain": [
       "25"
      ]
     },
     "execution_count": 86,
     "metadata": {},
     "output_type": "execute_result"
    }
   ],
   "source": [
    "len(word)"
   ]
  },
  {
   "cell_type": "code",
   "execution_count": 88,
   "id": "ca41f53a",
   "metadata": {},
   "outputs": [
    {
     "data": {
      "text/plain": [
       "20"
      ]
     },
     "execution_count": 88,
     "metadata": {},
     "output_type": "execute_result"
    }
   ],
   "source": [
    "word.find(\"house\")"
   ]
  },
  {
   "cell_type": "code",
   "execution_count": 90,
   "id": "9d44e820",
   "metadata": {},
   "outputs": [
    {
     "data": {
      "text/plain": [
       "16"
      ]
     },
     "execution_count": 90,
     "metadata": {},
     "output_type": "execute_result"
    }
   ],
   "source": [
    "word.find(\"new\",10,25)"
   ]
  },
  {
   "cell_type": "code",
   "execution_count": 92,
   "id": "4523dbe0",
   "metadata": {},
   "outputs": [
    {
     "data": {
      "text/plain": [
       "3"
      ]
     },
     "execution_count": 92,
     "metadata": {},
     "output_type": "execute_result"
    }
   ],
   "source": [
    "word.count('i')"
   ]
  },
  {
   "cell_type": "code",
   "execution_count": 94,
   "id": "d1e5e908",
   "metadata": {},
   "outputs": [
    {
     "data": {
      "text/plain": [
       "'Jigar is buying new house'"
      ]
     },
     "execution_count": 94,
     "metadata": {},
     "output_type": "execute_result"
    }
   ],
   "source": [
    "word"
   ]
  },
  {
   "cell_type": "code",
   "execution_count": 96,
   "id": "0a4db695",
   "metadata": {},
   "outputs": [
    {
     "data": {
      "text/plain": [
       "'Pranshu is buying new house'"
      ]
     },
     "execution_count": 96,
     "metadata": {},
     "output_type": "execute_result"
    }
   ],
   "source": [
    "word.replace(\"Jigar\",\"Pranshu\")"
   ]
  },
  {
   "cell_type": "code",
   "execution_count": 98,
   "id": "02fb83a1",
   "metadata": {},
   "outputs": [
    {
     "data": {
      "text/plain": [
       "'Jigar is buying new house'"
      ]
     },
     "execution_count": 98,
     "metadata": {},
     "output_type": "execute_result"
    }
   ],
   "source": [
    "''.join(word)"
   ]
  },
  {
   "cell_type": "code",
   "execution_count": 99,
   "id": "389a3489",
   "metadata": {},
   "outputs": [
    {
     "data": {
      "text/plain": [
       "'J i g a r   i s   b u y i n g   n e w   h o u s e'"
      ]
     },
     "execution_count": 99,
     "metadata": {},
     "output_type": "execute_result"
    }
   ],
   "source": [
    "' '.join(word)"
   ]
  }
 ],
 "metadata": {
  "kernelspec": {
   "display_name": "Python 3 (ipykernel)",
   "language": "python",
   "name": "python3"
  },
  "language_info": {
   "codemirror_mode": {
    "name": "ipython",
    "version": 3
   },
   "file_extension": ".py",
   "mimetype": "text/x-python",
   "name": "python",
   "nbconvert_exporter": "python",
   "pygments_lexer": "ipython3",
   "version": "3.9.13"
  }
 },
 "nbformat": 4,
 "nbformat_minor": 5
}
