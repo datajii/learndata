{
 "cells": [
  {
   "cell_type": "markdown",
   "id": "1d84a24a",
   "metadata": {},
   "source": [
    "# function"
   ]
  },
  {
   "cell_type": "code",
   "execution_count": 2,
   "id": "7a1f9b02",
   "metadata": {},
   "outputs": [],
   "source": [
    "def f1():\n",
    "    print(\"I am function, call me anywhere.\")"
   ]
  },
  {
   "cell_type": "code",
   "execution_count": 4,
   "id": "f80da0d0",
   "metadata": {},
   "outputs": [
    {
     "name": "stdout",
     "output_type": "stream",
     "text": [
      "I am function, call me anywhere.\n"
     ]
    }
   ],
   "source": [
    "f1()"
   ]
  },
  {
   "cell_type": "code",
   "execution_count": 6,
   "id": "4c59a484",
   "metadata": {},
   "outputs": [],
   "source": [
    "def addfunction():\n",
    "    a=10\n",
    "    b=5\n",
    "    c=a+b\n",
    "    print(\"addition is =\",c)"
   ]
  },
  {
   "cell_type": "code",
   "execution_count": 9,
   "id": "060da419",
   "metadata": {},
   "outputs": [
    {
     "name": "stdout",
     "output_type": "stream",
     "text": [
      "addition is = 15\n"
     ]
    }
   ],
   "source": [
    "addfunction()"
   ]
  },
  {
   "cell_type": "code",
   "execution_count": 11,
   "id": "167cbe67",
   "metadata": {},
   "outputs": [],
   "source": [
    "def aofr():\n",
    "    l=int(input(\"Length = \"))\n",
    "    b=int(input(\"Breadth = \"))\n",
    "    area=l*b\n",
    "    print(\"The total area is \",area)"
   ]
  },
  {
   "cell_type": "code",
   "execution_count": 13,
   "id": "4f5742ed",
   "metadata": {},
   "outputs": [
    {
     "name": "stdout",
     "output_type": "stream",
     "text": [
      "Length = 5\n",
      "Breadth = 4\n",
      "The total area is  20\n"
     ]
    }
   ],
   "source": [
    "aofr()"
   ]
  },
  {
   "cell_type": "code",
   "execution_count": 15,
   "id": "6b9acbdc",
   "metadata": {},
   "outputs": [],
   "source": [
    "def aofc():\n",
    "    r=int(input(\"Radius = \"))\n",
    "    pi=3.14\n",
    "    afc=pi*(r**2)\n",
    "    print(\"The area of circle is = \",afc)"
   ]
  },
  {
   "cell_type": "code",
   "execution_count": 17,
   "id": "335b0127",
   "metadata": {},
   "outputs": [
    {
     "name": "stdout",
     "output_type": "stream",
     "text": [
      "Radius = 5\n",
      "The area of circle is =  78.5\n"
     ]
    }
   ],
   "source": [
    "aofc()"
   ]
  },
  {
   "cell_type": "code",
   "execution_count": 39,
   "id": "d9e831f0",
   "metadata": {},
   "outputs": [],
   "source": [
    "def power_function():\n",
    "    p=int(input(\"Enter base number =\"))\n",
    "    q=int(input(\"Enter power =\"))\n",
    "    print(\"Result =\",(p**q))"
   ]
  },
  {
   "cell_type": "code",
   "execution_count": 43,
   "id": "6e7ed83f",
   "metadata": {},
   "outputs": [],
   "source": [
    "def add_function2(a,b):\n",
    "    c=a+b\n",
    "    print(\"C= \",c)"
   ]
  },
  {
   "cell_type": "code",
   "execution_count": 45,
   "id": "384ea685",
   "metadata": {},
   "outputs": [
    {
     "name": "stdout",
     "output_type": "stream",
     "text": [
      "C=  10\n"
     ]
    }
   ],
   "source": [
    "add_function2(5,5)"
   ]
  },
  {
   "cell_type": "code",
   "execution_count": 48,
   "id": "aa69b4c4",
   "metadata": {},
   "outputs": [],
   "source": [
    "def power_function(p,q):\n",
    "    print(\"Result =\",(p**q))"
   ]
  },
  {
   "cell_type": "code",
   "execution_count": 50,
   "id": "18fea3eb",
   "metadata": {},
   "outputs": [
    {
     "name": "stdout",
     "output_type": "stream",
     "text": [
      "Result = 125\n"
     ]
    }
   ],
   "source": [
    "power_function(5,3)"
   ]
  },
  {
   "cell_type": "code",
   "execution_count": 52,
   "id": "67a080ff",
   "metadata": {},
   "outputs": [],
   "source": [
    "def addit(*m):\n",
    "    print(sum(m))"
   ]
  },
  {
   "cell_type": "code",
   "execution_count": 54,
   "id": "93706c45",
   "metadata": {},
   "outputs": [
    {
     "name": "stdout",
     "output_type": "stream",
     "text": [
      "5\n"
     ]
    }
   ],
   "source": [
    "addit(2,3)"
   ]
  },
  {
   "cell_type": "code",
   "execution_count": 56,
   "id": "8e402ba9",
   "metadata": {},
   "outputs": [
    {
     "name": "stdout",
     "output_type": "stream",
     "text": [
      "27\n"
     ]
    }
   ],
   "source": [
    "addit(2,3,4,5,6,7)"
   ]
  },
  {
   "cell_type": "code",
   "execution_count": 58,
   "id": "f57e3d15",
   "metadata": {},
   "outputs": [],
   "source": [
    "def table():\n",
    "    t=int(input(\"Enter number = \"))\n",
    "    for i in range(1,11):\n",
    "        print(t, \"*\", \"=\" , t*i)"
   ]
  },
  {
   "cell_type": "code",
   "execution_count": 61,
   "id": "f465cadd",
   "metadata": {},
   "outputs": [
    {
     "name": "stdout",
     "output_type": "stream",
     "text": [
      "Enter number = 4\n",
      "4 * = 4\n",
      "4 * = 8\n",
      "4 * = 12\n",
      "4 * = 16\n",
      "4 * = 20\n",
      "4 * = 24\n",
      "4 * = 28\n",
      "4 * = 32\n",
      "4 * = 36\n",
      "4 * = 40\n"
     ]
    }
   ],
   "source": [
    "table()"
   ]
  },
  {
   "cell_type": "code",
   "execution_count": 67,
   "id": "d4bfbebd",
   "metadata": {},
   "outputs": [],
   "source": [
    "def table(t):\n",
    "    for i in range(1,11):\n",
    "        print(t, \"*\",i,\"=\" , t*i)"
   ]
  },
  {
   "cell_type": "code",
   "execution_count": 68,
   "id": "17c48fcd",
   "metadata": {},
   "outputs": [
    {
     "name": "stdout",
     "output_type": "stream",
     "text": [
      "7 * 1 = 7\n",
      "7 * 2 = 14\n",
      "7 * 3 = 21\n",
      "7 * 4 = 28\n",
      "7 * 5 = 35\n",
      "7 * 6 = 42\n",
      "7 * 7 = 49\n",
      "7 * 8 = 56\n",
      "7 * 9 = 63\n",
      "7 * 10 = 70\n"
     ]
    }
   ],
   "source": [
    "table(7)"
   ]
  },
  {
   "cell_type": "code",
   "execution_count": 64,
   "id": "05f1ab9a",
   "metadata": {},
   "outputs": [
    {
     "name": "stdout",
     "output_type": "stream",
     "text": [
      "5 * = 5\n",
      "5 * = 10\n",
      "5 * = 15\n",
      "5 * = 20\n",
      "5 * = 25\n",
      "5 * = 30\n",
      "5 * = 35\n",
      "5 * = 40\n",
      "5 * = 45\n",
      "5 * = 50\n"
     ]
    }
   ],
   "source": [
    "table(5)"
   ]
  }
 ],
 "metadata": {
  "kernelspec": {
   "display_name": "Python 3 (ipykernel)",
   "language": "python",
   "name": "python3"
  },
  "language_info": {
   "codemirror_mode": {
    "name": "ipython",
    "version": 3
   },
   "file_extension": ".py",
   "mimetype": "text/x-python",
   "name": "python",
   "nbconvert_exporter": "python",
   "pygments_lexer": "ipython3",
   "version": "3.9.13"
  }
 },
 "nbformat": 4,
 "nbformat_minor": 5
}
