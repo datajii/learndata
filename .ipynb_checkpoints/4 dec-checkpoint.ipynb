{
 "cells": [
  {
   "cell_type": "code",
   "execution_count": 11,
   "id": "e603a3d9",
   "metadata": {},
   "outputs": [],
   "source": [
    "list1=[\"jigar\",\"riddhi\",\"pranshu\",\"silvassa\",\"bangalore\"]"
   ]
  },
  {
   "cell_type": "markdown",
   "id": "96b4f287",
   "metadata": {},
   "source": [
    "Negative Indexing [-5,-4,-3,-2,-1]"
   ]
  },
  {
   "cell_type": "code",
   "execution_count": 13,
   "id": "048c3c98",
   "metadata": {},
   "outputs": [
    {
     "data": {
      "text/plain": [
       "'riddhi'"
      ]
     },
     "execution_count": 13,
     "metadata": {},
     "output_type": "execute_result"
    }
   ],
   "source": [
    "list1[1]"
   ]
  },
  {
   "cell_type": "code",
   "execution_count": 15,
   "id": "8d83605c",
   "metadata": {},
   "outputs": [
    {
     "data": {
      "text/plain": [
       "'jigar'"
      ]
     },
     "execution_count": 15,
     "metadata": {},
     "output_type": "execute_result"
    }
   ],
   "source": [
    "list1[0]"
   ]
  },
  {
   "cell_type": "code",
   "execution_count": 17,
   "id": "e256043b",
   "metadata": {},
   "outputs": [
    {
     "data": {
      "text/plain": [
       "'pranshu'"
      ]
     },
     "execution_count": 17,
     "metadata": {},
     "output_type": "execute_result"
    }
   ],
   "source": [
    "list1[-3]"
   ]
  },
  {
   "cell_type": "code",
   "execution_count": 18,
   "id": "65dbc8db",
   "metadata": {},
   "outputs": [
    {
     "data": {
      "text/plain": [
       "'bangalore'"
      ]
     },
     "execution_count": 18,
     "metadata": {},
     "output_type": "execute_result"
    }
   ],
   "source": [
    "list1[-1]"
   ]
  }
 ],
 "metadata": {
  "kernelspec": {
   "display_name": "Python 3 (ipykernel)",
   "language": "python",
   "name": "python3"
  },
  "language_info": {
   "codemirror_mode": {
    "name": "ipython",
    "version": 3
   },
   "file_extension": ".py",
   "mimetype": "text/x-python",
   "name": "python",
   "nbconvert_exporter": "python",
   "pygments_lexer": "ipython3",
   "version": "3.9.13"
  }
 },
 "nbformat": 4,
 "nbformat_minor": 5
}
