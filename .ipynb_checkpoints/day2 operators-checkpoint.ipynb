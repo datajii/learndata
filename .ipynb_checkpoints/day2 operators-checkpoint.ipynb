{
 "cells": [
  {
   "cell_type": "markdown",
   "id": "efa5c4ad",
   "metadata": {},
   "source": [
    "# Welcome to Python"
   ]
  },
  {
   "cell_type": "markdown",
   "id": "4928266b",
   "metadata": {},
   "source": [
    "Python Mathematical Operators"
   ]
  },
  {
   "cell_type": "code",
   "execution_count": 3,
   "id": "85bab998",
   "metadata": {},
   "outputs": [
    {
     "data": {
      "text/plain": [
       "2"
      ]
     },
     "execution_count": 3,
     "metadata": {},
     "output_type": "execute_result"
    }
   ],
   "source": [
    "1+1"
   ]
  },
  {
   "cell_type": "code",
   "execution_count": 4,
   "id": "f2ac2307",
   "metadata": {},
   "outputs": [
    {
     "data": {
      "text/plain": [
       "2"
      ]
     },
     "execution_count": 4,
     "metadata": {},
     "output_type": "execute_result"
    }
   ],
   "source": [
    "3-1"
   ]
  },
  {
   "cell_type": "code",
   "execution_count": 5,
   "id": "9b16e0f0",
   "metadata": {},
   "outputs": [
    {
     "data": {
      "text/plain": [
       "6"
      ]
     },
     "execution_count": 5,
     "metadata": {},
     "output_type": "execute_result"
    }
   ],
   "source": [
    "3*2"
   ]
  },
  {
   "cell_type": "code",
   "execution_count": 6,
   "id": "8aa74299",
   "metadata": {},
   "outputs": [
    {
     "data": {
      "text/plain": [
       "5.0"
      ]
     },
     "execution_count": 6,
     "metadata": {},
     "output_type": "execute_result"
    }
   ],
   "source": [
    "10/2"
   ]
  },
  {
   "cell_type": "markdown",
   "id": "7ddb2517",
   "metadata": {},
   "source": [
    "floor devision // removes .0 decimal value from above division"
   ]
  },
  {
   "cell_type": "code",
   "execution_count": 7,
   "id": "9e9808af",
   "metadata": {},
   "outputs": [
    {
     "data": {
      "text/plain": [
       "5"
      ]
     },
     "execution_count": 7,
     "metadata": {},
     "output_type": "execute_result"
    }
   ],
   "source": [
    "10//2"
   ]
  },
  {
   "cell_type": "markdown",
   "id": "f1ce5a86",
   "metadata": {},
   "source": [
    "Power Squre of any number , a to the power of b"
   ]
  },
  {
   "cell_type": "code",
   "execution_count": 8,
   "id": "b2d167c9",
   "metadata": {},
   "outputs": [
    {
     "data": {
      "text/plain": [
       "4"
      ]
     },
     "execution_count": 8,
     "metadata": {},
     "output_type": "execute_result"
    }
   ],
   "source": [
    "2**2"
   ]
  },
  {
   "cell_type": "code",
   "execution_count": 9,
   "id": "9c7baa49",
   "metadata": {},
   "outputs": [
    {
     "data": {
      "text/plain": [
       "16"
      ]
     },
     "execution_count": 9,
     "metadata": {},
     "output_type": "execute_result"
    }
   ],
   "source": [
    "2**4"
   ]
  },
  {
   "cell_type": "code",
   "execution_count": 10,
   "id": "81db1f00",
   "metadata": {},
   "outputs": [
    {
     "data": {
      "text/plain": [
       "9"
      ]
     },
     "execution_count": 10,
     "metadata": {},
     "output_type": "execute_result"
    }
   ],
   "source": [
    "3**2"
   ]
  },
  {
   "cell_type": "code",
   "execution_count": 11,
   "id": "a9ae146a",
   "metadata": {},
   "outputs": [
    {
     "data": {
      "text/plain": [
       "3125"
      ]
     },
     "execution_count": 11,
     "metadata": {},
     "output_type": "execute_result"
    }
   ],
   "source": [
    "5**5"
   ]
  },
  {
   "cell_type": "markdown",
   "id": "d085e355",
   "metadata": {},
   "source": [
    "Variables"
   ]
  },
  {
   "cell_type": "code",
   "execution_count": 26,
   "id": "1e0d6fae",
   "metadata": {},
   "outputs": [],
   "source": [
    "a=50"
   ]
  },
  {
   "cell_type": "code",
   "execution_count": 27,
   "id": "9dde6446",
   "metadata": {},
   "outputs": [
    {
     "data": {
      "text/plain": [
       "50"
      ]
     },
     "execution_count": 27,
     "metadata": {},
     "output_type": "execute_result"
    }
   ],
   "source": [
    "a"
   ]
  },
  {
   "cell_type": "code",
   "execution_count": 28,
   "id": "73ce3b26",
   "metadata": {},
   "outputs": [],
   "source": [
    "b=10"
   ]
  },
  {
   "cell_type": "code",
   "execution_count": 29,
   "id": "82b9dfbf",
   "metadata": {},
   "outputs": [
    {
     "data": {
      "text/plain": [
       "10"
      ]
     },
     "execution_count": 29,
     "metadata": {},
     "output_type": "execute_result"
    }
   ],
   "source": [
    "b"
   ]
  },
  {
   "cell_type": "code",
   "execution_count": 30,
   "id": "2d8d28c6",
   "metadata": {},
   "outputs": [
    {
     "data": {
      "text/plain": [
       "60"
      ]
     },
     "execution_count": 30,
     "metadata": {},
     "output_type": "execute_result"
    }
   ],
   "source": [
    "a+b"
   ]
  },
  {
   "cell_type": "code",
   "execution_count": 31,
   "id": "276c04d5",
   "metadata": {},
   "outputs": [
    {
     "data": {
      "text/plain": [
       "40"
      ]
     },
     "execution_count": 31,
     "metadata": {},
     "output_type": "execute_result"
    }
   ],
   "source": [
    "a-b"
   ]
  },
  {
   "cell_type": "code",
   "execution_count": 32,
   "id": "c808b20f",
   "metadata": {},
   "outputs": [
    {
     "data": {
      "text/plain": [
       "500"
      ]
     },
     "execution_count": 32,
     "metadata": {},
     "output_type": "execute_result"
    }
   ],
   "source": [
    "a*b"
   ]
  },
  {
   "cell_type": "code",
   "execution_count": 33,
   "id": "50ca266a",
   "metadata": {},
   "outputs": [
    {
     "data": {
      "text/plain": [
       "5.0"
      ]
     },
     "execution_count": 33,
     "metadata": {},
     "output_type": "execute_result"
    }
   ],
   "source": [
    "a/b"
   ]
  },
  {
   "cell_type": "code",
   "execution_count": 34,
   "id": "58c9ed52",
   "metadata": {},
   "outputs": [
    {
     "data": {
      "text/plain": [
       "5"
      ]
     },
     "execution_count": 34,
     "metadata": {},
     "output_type": "execute_result"
    }
   ],
   "source": [
    "a//b"
   ]
  },
  {
   "cell_type": "code",
   "execution_count": 35,
   "id": "2ebd684b",
   "metadata": {},
   "outputs": [
    {
     "data": {
      "text/plain": [
       "36"
      ]
     },
     "execution_count": 35,
     "metadata": {},
     "output_type": "execute_result"
    }
   ],
   "source": [
    "6**2"
   ]
  },
  {
   "cell_type": "code",
   "execution_count": 38,
   "id": "fe559180",
   "metadata": {},
   "outputs": [],
   "source": [
    "c=a+b"
   ]
  },
  {
   "cell_type": "code",
   "execution_count": 40,
   "id": "a3c48283",
   "metadata": {},
   "outputs": [
    {
     "data": {
      "text/plain": [
       "60"
      ]
     },
     "execution_count": 40,
     "metadata": {},
     "output_type": "execute_result"
    }
   ],
   "source": [
    "c"
   ]
  },
  {
   "cell_type": "code",
   "execution_count": 41,
   "id": "3f4d60f0",
   "metadata": {},
   "outputs": [],
   "source": [
    "c=a-b"
   ]
  },
  {
   "cell_type": "code",
   "execution_count": 43,
   "id": "ecd1eabf",
   "metadata": {},
   "outputs": [
    {
     "data": {
      "text/plain": [
       "40"
      ]
     },
     "execution_count": 43,
     "metadata": {},
     "output_type": "execute_result"
    }
   ],
   "source": [
    "c"
   ]
  },
  {
   "cell_type": "code",
   "execution_count": 45,
   "id": "37dd9016",
   "metadata": {},
   "outputs": [],
   "source": [
    "c=a*b"
   ]
  },
  {
   "cell_type": "code",
   "execution_count": 47,
   "id": "9fb1dd07",
   "metadata": {},
   "outputs": [
    {
     "data": {
      "text/plain": [
       "500"
      ]
     },
     "execution_count": 47,
     "metadata": {},
     "output_type": "execute_result"
    }
   ],
   "source": [
    "c"
   ]
  },
  {
   "cell_type": "code",
   "execution_count": 49,
   "id": "77a4dcd2",
   "metadata": {},
   "outputs": [
    {
     "name": "stdout",
     "output_type": "stream",
     "text": [
      "hello python\n"
     ]
    }
   ],
   "source": [
    "print(\"hello python\")"
   ]
  },
  {
   "cell_type": "code",
   "execution_count": 52,
   "id": "5b65df4b",
   "metadata": {},
   "outputs": [
    {
     "name": "stdout",
     "output_type": "stream",
     "text": [
      "hello python\n"
     ]
    }
   ],
   "source": [
    "print('hello python')"
   ]
  },
  {
   "cell_type": "markdown",
   "id": "ce256a99",
   "metadata": {},
   "source": [
    "Area of rectangle"
   ]
  },
  {
   "cell_type": "code",
   "execution_count": 58,
   "id": "be2efc24",
   "metadata": {},
   "outputs": [
    {
     "data": {
      "text/plain": [
       "700"
      ]
     },
     "execution_count": 58,
     "metadata": {},
     "output_type": "execute_result"
    }
   ],
   "source": [
    "length=50\n",
    "breadth=14\n",
    "area=length*breadth\n",
    "area"
   ]
  },
  {
   "cell_type": "code",
   "execution_count": 59,
   "id": "f5e181e8",
   "metadata": {},
   "outputs": [
    {
     "name": "stdout",
     "output_type": "stream",
     "text": [
      "The area of rectangle is 700\n"
     ]
    }
   ],
   "source": [
    "length=50\n",
    "breadth=14\n",
    "area=length*breadth\n",
    "print(\"The area of rectangle is\",area)"
   ]
  },
  {
   "cell_type": "code",
   "execution_count": 60,
   "id": "4074db0e",
   "metadata": {},
   "outputs": [
    {
     "name": "stdout",
     "output_type": "stream",
     "text": [
      "The area of rectangle with length 50 & breadth 14 is 700\n"
     ]
    }
   ],
   "source": [
    "length=50\n",
    "breadth=14\n",
    "area=length*breadth\n",
    "print(\"The area of rectangle with length\",length,\"& breadth\",breadth,\"is\",area)"
   ]
  },
  {
   "cell_type": "markdown",
   "id": "789325bf",
   "metadata": {},
   "source": [
    "Sqaure of number"
   ]
  },
  {
   "cell_type": "code",
   "execution_count": 61,
   "id": "3d74c107",
   "metadata": {},
   "outputs": [
    {
     "name": "stdout",
     "output_type": "stream",
     "text": [
      "sqaure of 5 is 25\n"
     ]
    }
   ],
   "source": [
    "p=5\n",
    "square=p**2\n",
    "print(\"sqaure of\",p,\"is\",square)"
   ]
  },
  {
   "cell_type": "markdown",
   "id": "61acaecb",
   "metadata": {},
   "source": [
    "Comparision Operators > < == !="
   ]
  },
  {
   "cell_type": "code",
   "execution_count": 63,
   "id": "1be20513",
   "metadata": {},
   "outputs": [
    {
     "data": {
      "text/plain": [
       "True"
      ]
     },
     "execution_count": 63,
     "metadata": {},
     "output_type": "execute_result"
    }
   ],
   "source": [
    "50>30"
   ]
  },
  {
   "cell_type": "code",
   "execution_count": 65,
   "id": "78164839",
   "metadata": {},
   "outputs": [
    {
     "data": {
      "text/plain": [
       "False"
      ]
     },
     "execution_count": 65,
     "metadata": {},
     "output_type": "execute_result"
    }
   ],
   "source": [
    "50<30"
   ]
  },
  {
   "cell_type": "code",
   "execution_count": 67,
   "id": "6b0e18f1",
   "metadata": {},
   "outputs": [
    {
     "data": {
      "text/plain": [
       "False"
      ]
     },
     "execution_count": 67,
     "metadata": {},
     "output_type": "execute_result"
    }
   ],
   "source": [
    "50==30"
   ]
  },
  {
   "cell_type": "code",
   "execution_count": 69,
   "id": "af7cf6dd",
   "metadata": {},
   "outputs": [
    {
     "data": {
      "text/plain": [
       "True"
      ]
     },
     "execution_count": 69,
     "metadata": {},
     "output_type": "execute_result"
    }
   ],
   "source": [
    "30<50"
   ]
  },
  {
   "cell_type": "code",
   "execution_count": 71,
   "id": "48b35d59",
   "metadata": {},
   "outputs": [
    {
     "data": {
      "text/plain": [
       "False"
      ]
     },
     "execution_count": 71,
     "metadata": {},
     "output_type": "execute_result"
    }
   ],
   "source": [
    "50==30"
   ]
  },
  {
   "cell_type": "code",
   "execution_count": 73,
   "id": "2dc09131",
   "metadata": {},
   "outputs": [
    {
     "data": {
      "text/plain": [
       "True"
      ]
     },
     "execution_count": 73,
     "metadata": {},
     "output_type": "execute_result"
    }
   ],
   "source": [
    "30!=90"
   ]
  },
  {
   "cell_type": "code",
   "execution_count": 74,
   "id": "f5a08d10",
   "metadata": {},
   "outputs": [
    {
     "data": {
      "text/plain": [
       "False"
      ]
     },
     "execution_count": 74,
     "metadata": {},
     "output_type": "execute_result"
    }
   ],
   "source": [
    "70!=70"
   ]
  },
  {
   "cell_type": "markdown",
   "id": "0f1a74d3",
   "metadata": {},
   "source": [
    "Length function len"
   ]
  },
  {
   "cell_type": "code",
   "execution_count": 75,
   "id": "5bf85b48",
   "metadata": {},
   "outputs": [
    {
     "data": {
      "text/plain": [
       "9"
      ]
     },
     "execution_count": 75,
     "metadata": {},
     "output_type": "execute_result"
    }
   ],
   "source": [
    "len(\"Bengaluru\")"
   ]
  },
  {
   "cell_type": "code",
   "execution_count": 76,
   "id": "f700257f",
   "metadata": {},
   "outputs": [
    {
     "data": {
      "text/plain": [
       "6"
      ]
     },
     "execution_count": 76,
     "metadata": {},
     "output_type": "execute_result"
    }
   ],
   "source": [
    "city=\"Baroda\"\n",
    "len(\"Baroda\")"
   ]
  },
  {
   "cell_type": "code",
   "execution_count": 78,
   "id": "f729a798",
   "metadata": {},
   "outputs": [
    {
     "data": {
      "text/plain": [
       "4"
      ]
     },
     "execution_count": 78,
     "metadata": {},
     "output_type": "execute_result"
    }
   ],
   "source": [
    "len(\"city\")"
   ]
  },
  {
   "cell_type": "code",
   "execution_count": 80,
   "id": "d940b70e",
   "metadata": {},
   "outputs": [
    {
     "data": {
      "text/plain": [
       "6"
      ]
     },
     "execution_count": 80,
     "metadata": {},
     "output_type": "execute_result"
    }
   ],
   "source": [
    "len(city)"
   ]
  },
  {
   "cell_type": "markdown",
   "id": "434a797b",
   "metadata": {},
   "source": [
    "User inputs"
   ]
  },
  {
   "cell_type": "code",
   "execution_count": 86,
   "id": "5e2bf03c",
   "metadata": {},
   "outputs": [
    {
     "name": "stdout",
     "output_type": "stream",
     "text": [
      "Enter name:shiv\n",
      "shiv\n",
      "Enter citysilvassa\n"
     ]
    },
    {
     "data": {
      "text/plain": [
       "'silvassa'"
      ]
     },
     "execution_count": 86,
     "metadata": {},
     "output_type": "execute_result"
    }
   ],
   "source": [
    "name=input(\"Enter name:\")\n",
    "print(name)\n",
    "place=input(\"Enter city\")\n",
    "place"
   ]
  },
  {
   "cell_type": "code",
   "execution_count": 88,
   "id": "38127736",
   "metadata": {},
   "outputs": [
    {
     "name": "stdout",
     "output_type": "stream",
     "text": [
      "Enter name:shiv\n",
      "Enter city:silvassa\n",
      "Enter Age:43\n",
      "Name is shiv 43 years old,from silvassa lenght of city is 8\n"
     ]
    }
   ],
   "source": [
    "name=input(\"Enter name:\")\n",
    "place=input(\"Enter city:\")\n",
    "age=input(\"Enter Age:\")\n",
    "print(\"Name is\",name,age,\"years old,from\",place,\"lenght of city is\",len(place))\n"
   ]
  },
  {
   "cell_type": "code",
   "execution_count": 90,
   "id": "fcb67f67",
   "metadata": {},
   "outputs": [
    {
     "data": {
      "text/plain": [
       "'silvassa'"
      ]
     },
     "execution_count": 90,
     "metadata": {},
     "output_type": "execute_result"
    }
   ],
   "source": [
    "place"
   ]
  },
  {
   "cell_type": "code",
   "execution_count": 91,
   "id": "eb2e01bc",
   "metadata": {},
   "outputs": [
    {
     "ename": "NameError",
     "evalue": "name 'Place' is not defined",
     "output_type": "error",
     "traceback": [
      "\u001b[0;31m---------------------------------------------------------------------------\u001b[0m",
      "\u001b[0;31mNameError\u001b[0m                                 Traceback (most recent call last)",
      "\u001b[0;32m/var/folders/79/c_hmcprj6h1cm6qndt4c15kh0000gn/T/ipykernel_29036/373441165.py\u001b[0m in \u001b[0;36m<module>\u001b[0;34m\u001b[0m\n\u001b[0;32m----> 1\u001b[0;31m \u001b[0mPlace\u001b[0m\u001b[0;34m\u001b[0m\u001b[0;34m\u001b[0m\u001b[0m\n\u001b[0m",
      "\u001b[0;31mNameError\u001b[0m: name 'Place' is not defined"
     ]
    }
   ],
   "source": [
    "Place"
   ]
  }
 ],
 "metadata": {
  "kernelspec": {
   "display_name": "Python 3 (ipykernel)",
   "language": "python",
   "name": "python3"
  },
  "language_info": {
   "codemirror_mode": {
    "name": "ipython",
    "version": 3
   },
   "file_extension": ".py",
   "mimetype": "text/x-python",
   "name": "python",
   "nbconvert_exporter": "python",
   "pygments_lexer": "ipython3",
   "version": "3.9.13"
  }
 },
 "nbformat": 4,
 "nbformat_minor": 5
}
