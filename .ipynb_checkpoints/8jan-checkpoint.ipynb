{
 "cells": [
  {
   "cell_type": "code",
   "execution_count": 2,
   "id": "e1202a55",
   "metadata": {},
   "outputs": [],
   "source": [
    "# global & local variable\n"
   ]
  },
  {
   "cell_type": "code",
   "execution_count": 4,
   "id": "53b9d5cb",
   "metadata": {},
   "outputs": [],
   "source": [
    "def add():\n",
    "    a=5\n",
    "    b=3\n",
    "    print(\"Sum is =\",a+b)"
   ]
  },
  {
   "cell_type": "code",
   "execution_count": 6,
   "id": "832e0709",
   "metadata": {},
   "outputs": [
    {
     "name": "stdout",
     "output_type": "stream",
     "text": [
      "Sum is = 8\n"
     ]
    }
   ],
   "source": [
    "add()"
   ]
  },
  {
   "cell_type": "code",
   "execution_count": 8,
   "id": "bc225c9a",
   "metadata": {},
   "outputs": [
    {
     "ename": "NameError",
     "evalue": "name 'a' is not defined",
     "output_type": "error",
     "traceback": [
      "\u001b[0;31m---------------------------------------------------------------------------\u001b[0m",
      "\u001b[0;31mNameError\u001b[0m                                 Traceback (most recent call last)",
      "\u001b[0;32m/var/folders/79/c_hmcprj6h1cm6qndt4c15kh0000gn/T/ipykernel_78736/1189138062.py\u001b[0m in \u001b[0;36m<module>\u001b[0;34m\u001b[0m\n\u001b[0;32m----> 1\u001b[0;31m \u001b[0mprint\u001b[0m\u001b[0;34m(\u001b[0m\u001b[0ma\u001b[0m\u001b[0;34m)\u001b[0m\u001b[0;34m\u001b[0m\u001b[0;34m\u001b[0m\u001b[0m\n\u001b[0m",
      "\u001b[0;31mNameError\u001b[0m: name 'a' is not defined"
     ]
    }
   ],
   "source": [
    "print(a)"
   ]
  },
  {
   "cell_type": "code",
   "execution_count": 10,
   "id": "5e5b8352",
   "metadata": {},
   "outputs": [
    {
     "ename": "NameError",
     "evalue": "name 'b' is not defined",
     "output_type": "error",
     "traceback": [
      "\u001b[0;31m---------------------------------------------------------------------------\u001b[0m",
      "\u001b[0;31mNameError\u001b[0m                                 Traceback (most recent call last)",
      "\u001b[0;32m/var/folders/79/c_hmcprj6h1cm6qndt4c15kh0000gn/T/ipykernel_78736/324135452.py\u001b[0m in \u001b[0;36m<module>\u001b[0;34m\u001b[0m\n\u001b[0;32m----> 1\u001b[0;31m \u001b[0mprint\u001b[0m\u001b[0;34m(\u001b[0m\u001b[0mb\u001b[0m\u001b[0;34m)\u001b[0m\u001b[0;34m\u001b[0m\u001b[0;34m\u001b[0m\u001b[0m\n\u001b[0m",
      "\u001b[0;31mNameError\u001b[0m: name 'b' is not defined"
     ]
    }
   ],
   "source": [
    "print(b)"
   ]
  },
  {
   "cell_type": "code",
   "execution_count": 11,
   "id": "effa8cb4",
   "metadata": {},
   "outputs": [],
   "source": [
    "# a & b are local variables."
   ]
  },
  {
   "cell_type": "code",
   "execution_count": 13,
   "id": "80dfdc6d",
   "metadata": {},
   "outputs": [],
   "source": [
    "c=10\n",
    "d=4\n",
    "def add1():\n",
    "    print(\"Sum is =\",c+d)\n",
    "    \n",
    "    "
   ]
  },
  {
   "cell_type": "code",
   "execution_count": 15,
   "id": "9ba61b26",
   "metadata": {},
   "outputs": [
    {
     "name": "stdout",
     "output_type": "stream",
     "text": [
      "Sum is = 14\n"
     ]
    }
   ],
   "source": [
    "add1()"
   ]
  },
  {
   "cell_type": "code",
   "execution_count": 17,
   "id": "7d00bd62",
   "metadata": {},
   "outputs": [
    {
     "name": "stdout",
     "output_type": "stream",
     "text": [
      "10\n"
     ]
    }
   ],
   "source": [
    "print(c)"
   ]
  },
  {
   "cell_type": "code",
   "execution_count": 19,
   "id": "11abbe7d",
   "metadata": {},
   "outputs": [
    {
     "name": "stdout",
     "output_type": "stream",
     "text": [
      "4\n"
     ]
    }
   ],
   "source": [
    "print(d)"
   ]
  },
  {
   "cell_type": "code",
   "execution_count": 21,
   "id": "245165f4",
   "metadata": {},
   "outputs": [],
   "source": [
    "# here c & d are global variables\n"
   ]
  },
  {
   "cell_type": "code",
   "execution_count": null,
   "id": "321c0328",
   "metadata": {},
   "outputs": [],
   "source": []
  },
  {
   "cell_type": "code",
   "execution_count": 23,
   "id": "25ab9847",
   "metadata": {},
   "outputs": [],
   "source": [
    "def add3():\n",
    "    a=50\n",
    "    b=25\n",
    "    c=a+b\n",
    "    return c"
   ]
  },
  {
   "cell_type": "code",
   "execution_count": 25,
   "id": "2eeb0b41",
   "metadata": {},
   "outputs": [
    {
     "data": {
      "text/plain": [
       "75"
      ]
     },
     "execution_count": 25,
     "metadata": {},
     "output_type": "execute_result"
    }
   ],
   "source": [
    "add3()"
   ]
  },
  {
   "cell_type": "code",
   "execution_count": 28,
   "id": "e58df51a",
   "metadata": {},
   "outputs": [
    {
     "name": "stdout",
     "output_type": "stream",
     "text": [
      "10\n"
     ]
    }
   ],
   "source": [
    "print(c)"
   ]
  },
  {
   "cell_type": "code",
   "execution_count": 30,
   "id": "c128d67b",
   "metadata": {},
   "outputs": [],
   "source": [
    "retval=add3()"
   ]
  },
  {
   "cell_type": "code",
   "execution_count": 32,
   "id": "3fe25eb5",
   "metadata": {},
   "outputs": [
    {
     "data": {
      "text/plain": [
       "75"
      ]
     },
     "execution_count": 32,
     "metadata": {},
     "output_type": "execute_result"
    }
   ],
   "source": [
    "retval"
   ]
  },
  {
   "cell_type": "code",
   "execution_count": 34,
   "id": "082bb25d",
   "metadata": {},
   "outputs": [
    {
     "data": {
      "text/plain": [
       "5625"
      ]
     },
     "execution_count": 34,
     "metadata": {},
     "output_type": "execute_result"
    }
   ],
   "source": [
    "retval**2"
   ]
  },
  {
   "cell_type": "code",
   "execution_count": 35,
   "id": "51087bc9",
   "metadata": {},
   "outputs": [],
   "source": [
    "# here c is local varible but still it returning value outside the function"
   ]
  },
  {
   "cell_type": "code",
   "execution_count": null,
   "id": "3eecd9fd",
   "metadata": {},
   "outputs": [],
   "source": [
    "# see how one fuction can call another function"
   ]
  },
  {
   "cell_type": "code",
   "execution_count": 36,
   "id": "37d3eded",
   "metadata": {},
   "outputs": [],
   "source": [
    "def testf():\n",
    "    m=int(input(\"Number =\"))\n",
    "    return m"
   ]
  },
  {
   "cell_type": "code",
   "execution_count": 40,
   "id": "8fb8531c",
   "metadata": {},
   "outputs": [],
   "source": [
    "def outerfunc():\n",
    "    n=testf()\n",
    "    print(\"The value of n is coming from testf functin written above, here it is =\",n)"
   ]
  },
  {
   "cell_type": "code",
   "execution_count": 42,
   "id": "7d02eb85",
   "metadata": {},
   "outputs": [
    {
     "name": "stdout",
     "output_type": "stream",
     "text": [
      "Number =5\n",
      "The value of n is coming from testf functin written above, here it is = 5\n"
     ]
    }
   ],
   "source": [
    "outerfunc()"
   ]
  },
  {
   "cell_type": "code",
   "execution_count": 51,
   "id": "6a0bf0b9",
   "metadata": {},
   "outputs": [],
   "source": [
    "def sumfunc(*numbers):\n",
    "    s=0\n",
    "    for n in numbers:\n",
    "        s+=n\n",
    "        print(\"current value of s is =\",s)\n",
    "    return s    \n",
    "    "
   ]
  },
  {
   "cell_type": "code",
   "execution_count": 52,
   "id": "4bcdb91d",
   "metadata": {},
   "outputs": [
    {
     "name": "stdout",
     "output_type": "stream",
     "text": [
      "current value of s is = 1\n",
      "current value of s is = 3\n"
     ]
    },
    {
     "data": {
      "text/plain": [
       "3"
      ]
     },
     "execution_count": 52,
     "metadata": {},
     "output_type": "execute_result"
    }
   ],
   "source": [
    "sumfunc(1,2)"
   ]
  },
  {
   "cell_type": "code",
   "execution_count": 54,
   "id": "4e81db32",
   "metadata": {},
   "outputs": [
    {
     "name": "stdout",
     "output_type": "stream",
     "text": [
      "current value of s is = 5\n",
      "current value of s is = 10\n",
      "current value of s is = 15\n"
     ]
    },
    {
     "data": {
      "text/plain": [
       "15"
      ]
     },
     "execution_count": 54,
     "metadata": {},
     "output_type": "execute_result"
    }
   ],
   "source": [
    "sumfunc(5,5,5)"
   ]
  },
  {
   "cell_type": "code",
   "execution_count": 55,
   "id": "f6eff0b3",
   "metadata": {},
   "outputs": [],
   "source": [
    "# lambda function - anonymous function"
   ]
  },
  {
   "cell_type": "code",
   "execution_count": 61,
   "id": "62fdeec3",
   "metadata": {},
   "outputs": [],
   "source": [
    "test5=lambda x:x+5"
   ]
  },
  {
   "cell_type": "code",
   "execution_count": 62,
   "id": "7876dea1",
   "metadata": {},
   "outputs": [
    {
     "data": {
      "text/plain": [
       "10"
      ]
     },
     "execution_count": 62,
     "metadata": {},
     "output_type": "execute_result"
    }
   ],
   "source": [
    "test5(5)"
   ]
  },
  {
   "cell_type": "code",
   "execution_count": 63,
   "id": "5adc0cea",
   "metadata": {},
   "outputs": [],
   "source": [
    "test5=lambda x:x*5"
   ]
  },
  {
   "cell_type": "code",
   "execution_count": 65,
   "id": "7e5b773f",
   "metadata": {},
   "outputs": [
    {
     "data": {
      "text/plain": [
       "25"
      ]
     },
     "execution_count": 65,
     "metadata": {},
     "output_type": "execute_result"
    }
   ],
   "source": [
    "test5(5)"
   ]
  },
  {
   "cell_type": "code",
   "execution_count": 66,
   "id": "e592d078",
   "metadata": {},
   "outputs": [],
   "source": [
    "square=lambda j:j**2"
   ]
  },
  {
   "cell_type": "code",
   "execution_count": 68,
   "id": "d16891d0",
   "metadata": {},
   "outputs": [
    {
     "data": {
      "text/plain": [
       "25"
      ]
     },
     "execution_count": 68,
     "metadata": {},
     "output_type": "execute_result"
    }
   ],
   "source": [
    "square(5)"
   ]
  },
  {
   "cell_type": "code",
   "execution_count": 70,
   "id": "9c7ebfb3",
   "metadata": {},
   "outputs": [],
   "source": [
    "mult=lambda j,k:j*k"
   ]
  },
  {
   "cell_type": "code",
   "execution_count": 72,
   "id": "f8013fbb",
   "metadata": {},
   "outputs": [
    {
     "data": {
      "text/plain": [
       "25"
      ]
     },
     "execution_count": 72,
     "metadata": {},
     "output_type": "execute_result"
    }
   ],
   "source": [
    "mult(5,5)"
   ]
  },
  {
   "cell_type": "code",
   "execution_count": 75,
   "id": "3d053ea9",
   "metadata": {},
   "outputs": [
    {
     "data": {
      "text/plain": [
       "15"
      ]
     },
     "execution_count": 75,
     "metadata": {},
     "output_type": "execute_result"
    }
   ],
   "source": [
    "addtest=lambda x,y,z:x+y+z\n",
    "addtest(5,5,5)"
   ]
  },
  {
   "cell_type": "code",
   "execution_count": 78,
   "id": "a4068970",
   "metadata": {},
   "outputs": [],
   "source": [
    "cube=lambda x:x**3"
   ]
  },
  {
   "cell_type": "code",
   "execution_count": 80,
   "id": "a5d45313",
   "metadata": {},
   "outputs": [
    {
     "data": {
      "text/plain": [
       "125"
      ]
     },
     "execution_count": 80,
     "metadata": {},
     "output_type": "execute_result"
    }
   ],
   "source": [
    "cube(5)"
   ]
  },
  {
   "cell_type": "code",
   "execution_count": 83,
   "id": "f77b79b4",
   "metadata": {},
   "outputs": [
    {
     "data": {
      "text/plain": [
       "5.51"
      ]
     },
     "execution_count": 83,
     "metadata": {},
     "output_type": "execute_result"
    }
   ],
   "source": [
    "x=5.51234567839\n",
    "round(x,2)"
   ]
  }
 ],
 "metadata": {
  "kernelspec": {
   "display_name": "Python 3 (ipykernel)",
   "language": "python",
   "name": "python3"
  },
  "language_info": {
   "codemirror_mode": {
    "name": "ipython",
    "version": 3
   },
   "file_extension": ".py",
   "mimetype": "text/x-python",
   "name": "python",
   "nbconvert_exporter": "python",
   "pygments_lexer": "ipython3",
   "version": "3.9.13"
  }
 },
 "nbformat": 4,
 "nbformat_minor": 5
}
