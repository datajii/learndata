{
 "cells": [
  {
   "cell_type": "markdown",
   "id": "5167b5da",
   "metadata": {},
   "source": [
    "Dictionary in Datastructure"
   ]
  },
  {
   "cell_type": "markdown",
   "id": "a45f5e35",
   "metadata": {},
   "source": [
    "d1={k1:v1,k2:v2,k3:v3}"
   ]
  },
  {
   "cell_type": "code",
   "execution_count": 2,
   "id": "4af41630",
   "metadata": {},
   "outputs": [],
   "source": [
    "d1={'id':1,'Name':'Jigar','Age':44}"
   ]
  },
  {
   "cell_type": "code",
   "execution_count": 4,
   "id": "81c35879",
   "metadata": {},
   "outputs": [
    {
     "data": {
      "text/plain": [
       "{'id': 1, 'Name': 'Jigar', 'Age': 44}"
      ]
     },
     "execution_count": 4,
     "metadata": {},
     "output_type": "execute_result"
    }
   ],
   "source": [
    "d1"
   ]
  },
  {
   "cell_type": "code",
   "execution_count": 8,
   "id": "dcf3abd0",
   "metadata": {},
   "outputs": [
    {
     "data": {
      "text/plain": [
       "dict_keys(['id', 'Name', 'Age'])"
      ]
     },
     "execution_count": 8,
     "metadata": {},
     "output_type": "execute_result"
    }
   ],
   "source": [
    "d1.keys()"
   ]
  },
  {
   "cell_type": "code",
   "execution_count": 11,
   "id": "303499a5",
   "metadata": {},
   "outputs": [
    {
     "data": {
      "text/plain": [
       "dict_values([1, 'Jigar', 44])"
      ]
     },
     "execution_count": 11,
     "metadata": {},
     "output_type": "execute_result"
    }
   ],
   "source": [
    "d1.values()"
   ]
  },
  {
   "cell_type": "code",
   "execution_count": 13,
   "id": "be627155",
   "metadata": {},
   "outputs": [
    {
     "data": {
      "text/plain": [
       "dict_items([('id', 1), ('Name', 'Jigar'), ('Age', 44)])"
      ]
     },
     "execution_count": 13,
     "metadata": {},
     "output_type": "execute_result"
    }
   ],
   "source": [
    "d1.items()"
   ]
  },
  {
   "cell_type": "code",
   "execution_count": 15,
   "id": "f0b66b5b",
   "metadata": {},
   "outputs": [
    {
     "data": {
      "text/plain": [
       "'Jigar'"
      ]
     },
     "execution_count": 15,
     "metadata": {},
     "output_type": "execute_result"
    }
   ],
   "source": [
    "d1['Name']"
   ]
  },
  {
   "cell_type": "code",
   "execution_count": 17,
   "id": "cc3dd9e8",
   "metadata": {},
   "outputs": [],
   "source": [
    "d1['Name']=\"Riddhi\""
   ]
  },
  {
   "cell_type": "code",
   "execution_count": 19,
   "id": "4f562439",
   "metadata": {},
   "outputs": [
    {
     "data": {
      "text/plain": [
       "{'id': 1, 'Name': 'Riddhi', 'Age': 44}"
      ]
     },
     "execution_count": 19,
     "metadata": {},
     "output_type": "execute_result"
    }
   ],
   "source": [
    "d1"
   ]
  },
  {
   "cell_type": "code",
   "execution_count": 23,
   "id": "6ae72fc1",
   "metadata": {},
   "outputs": [],
   "source": [
    "d1.update({'Salary':100000})"
   ]
  },
  {
   "cell_type": "code",
   "execution_count": 27,
   "id": "e31b27af",
   "metadata": {},
   "outputs": [
    {
     "data": {
      "text/plain": [
       "{'id': 1, 'Name': 'Riddhi', 'Age': 44, 'Salary': 100000}"
      ]
     },
     "execution_count": 27,
     "metadata": {},
     "output_type": "execute_result"
    }
   ],
   "source": [
    "d1"
   ]
  },
  {
   "cell_type": "code",
   "execution_count": 29,
   "id": "cc2d4995",
   "metadata": {},
   "outputs": [],
   "source": [
    "d2={'id':[1,2,3],'Name':['jee','ree','prans'],'Age':[18,19,29]}"
   ]
  },
  {
   "cell_type": "code",
   "execution_count": 31,
   "id": "33df1062",
   "metadata": {},
   "outputs": [
    {
     "data": {
      "text/plain": [
       "{'id': [1, 2, 3], 'Name': ['jee', 'ree', 'prans'], 'Age': [18, 19, 29]}"
      ]
     },
     "execution_count": 31,
     "metadata": {},
     "output_type": "execute_result"
    }
   ],
   "source": [
    "d2"
   ]
  },
  {
   "cell_type": "code",
   "execution_count": 34,
   "id": "66246c33",
   "metadata": {},
   "outputs": [
    {
     "data": {
      "text/plain": [
       "1"
      ]
     },
     "execution_count": 34,
     "metadata": {},
     "output_type": "execute_result"
    }
   ],
   "source": [
    "d2['id'][0]"
   ]
  },
  {
   "cell_type": "code",
   "execution_count": 36,
   "id": "1f274baf",
   "metadata": {},
   "outputs": [
    {
     "data": {
      "text/plain": [
       "'ree'"
      ]
     },
     "execution_count": 36,
     "metadata": {},
     "output_type": "execute_result"
    }
   ],
   "source": [
    "d2['Name'][1]"
   ]
  },
  {
   "cell_type": "code",
   "execution_count": 38,
   "id": "cb05b5d8",
   "metadata": {},
   "outputs": [
    {
     "data": {
      "text/plain": [
       "dict_keys(['id', 'Name', 'Age'])"
      ]
     },
     "execution_count": 38,
     "metadata": {},
     "output_type": "execute_result"
    }
   ],
   "source": [
    "d2.keys()"
   ]
  },
  {
   "cell_type": "code",
   "execution_count": 40,
   "id": "af65fc1e",
   "metadata": {},
   "outputs": [
    {
     "data": {
      "text/plain": [
       "dict_values([[1, 2, 3], ['jee', 'ree', 'prans'], [18, 19, 29]])"
      ]
     },
     "execution_count": 40,
     "metadata": {},
     "output_type": "execute_result"
    }
   ],
   "source": [
    "d2.values()"
   ]
  },
  {
   "cell_type": "code",
   "execution_count": 42,
   "id": "d43e798b",
   "metadata": {},
   "outputs": [],
   "source": [
    "set1={1,2,3,4,5}"
   ]
  },
  {
   "cell_type": "code",
   "execution_count": 44,
   "id": "dffc5e54",
   "metadata": {},
   "outputs": [
    {
     "data": {
      "text/plain": [
       "{1, 2, 3, 4, 5}"
      ]
     },
     "execution_count": 44,
     "metadata": {},
     "output_type": "execute_result"
    }
   ],
   "source": [
    "set1"
   ]
  },
  {
   "cell_type": "code",
   "execution_count": 46,
   "id": "7bba68e3",
   "metadata": {},
   "outputs": [
    {
     "ename": "TypeError",
     "evalue": "'set' object is not callable",
     "output_type": "error",
     "traceback": [
      "\u001b[0;31m---------------------------------------------------------------------------\u001b[0m",
      "\u001b[0;31mTypeError\u001b[0m                                 Traceback (most recent call last)",
      "\u001b[0;32m/var/folders/79/c_hmcprj6h1cm6qndt4c15kh0000gn/T/ipykernel_8728/359486071.py\u001b[0m in \u001b[0;36m<module>\u001b[0;34m\u001b[0m\n\u001b[0;32m----> 1\u001b[0;31m \u001b[0mset1\u001b[0m\u001b[0;34m(\u001b[0m\u001b[0;36m2\u001b[0m\u001b[0;34m)\u001b[0m\u001b[0;34m\u001b[0m\u001b[0;34m\u001b[0m\u001b[0m\n\u001b[0m",
      "\u001b[0;31mTypeError\u001b[0m: 'set' object is not callable"
     ]
    }
   ],
   "source": [
    "set1(2)"
   ]
  },
  {
   "cell_type": "code",
   "execution_count": 48,
   "id": "88d5134b",
   "metadata": {},
   "outputs": [
    {
     "ename": "KeyError",
     "evalue": "4",
     "output_type": "error",
     "traceback": [
      "\u001b[0;31m---------------------------------------------------------------------------\u001b[0m",
      "\u001b[0;31mKeyError\u001b[0m                                  Traceback (most recent call last)",
      "\u001b[0;32m/var/folders/79/c_hmcprj6h1cm6qndt4c15kh0000gn/T/ipykernel_8728/450229268.py\u001b[0m in \u001b[0;36m<module>\u001b[0;34m\u001b[0m\n\u001b[0;32m----> 1\u001b[0;31m \u001b[0mset1\u001b[0m\u001b[0;34m.\u001b[0m\u001b[0mremove\u001b[0m\u001b[0;34m(\u001b[0m\u001b[0;36m4\u001b[0m\u001b[0;34m)\u001b[0m\u001b[0;34m\u001b[0m\u001b[0;34m\u001b[0m\u001b[0m\n\u001b[0m",
      "\u001b[0;31mKeyError\u001b[0m: 4"
     ]
    }
   ],
   "source": [
    "set1.remove(4)"
   ]
  },
  {
   "cell_type": "code",
   "execution_count": 50,
   "id": "8b60b4a4",
   "metadata": {},
   "outputs": [
    {
     "data": {
      "text/plain": [
       "{1, 2, 3, 5}"
      ]
     },
     "execution_count": 50,
     "metadata": {},
     "output_type": "execute_result"
    }
   ],
   "source": [
    "set1"
   ]
  },
  {
   "cell_type": "code",
   "execution_count": 52,
   "id": "e36a4531",
   "metadata": {},
   "outputs": [],
   "source": [
    "set1.add(4)"
   ]
  },
  {
   "cell_type": "code",
   "execution_count": 54,
   "id": "4f612863",
   "metadata": {},
   "outputs": [
    {
     "data": {
      "text/plain": [
       "{1, 2, 3, 4, 5}"
      ]
     },
     "execution_count": 54,
     "metadata": {},
     "output_type": "execute_result"
    }
   ],
   "source": [
    "set1"
   ]
  },
  {
   "cell_type": "code",
   "execution_count": 56,
   "id": "33d1131a",
   "metadata": {},
   "outputs": [],
   "source": [
    "set1.add(5)"
   ]
  },
  {
   "cell_type": "code",
   "execution_count": 58,
   "id": "81d8e939",
   "metadata": {},
   "outputs": [
    {
     "data": {
      "text/plain": [
       "{1, 2, 3, 4, 5}"
      ]
     },
     "execution_count": 58,
     "metadata": {},
     "output_type": "execute_result"
    }
   ],
   "source": [
    "set1"
   ]
  },
  {
   "cell_type": "code",
   "execution_count": 60,
   "id": "7ac6dec2",
   "metadata": {},
   "outputs": [
    {
     "data": {
      "text/plain": [
       "dict"
      ]
     },
     "execution_count": 60,
     "metadata": {},
     "output_type": "execute_result"
    }
   ],
   "source": [
    "type(d1)"
   ]
  },
  {
   "cell_type": "code",
   "execution_count": 62,
   "id": "0e4c9365",
   "metadata": {},
   "outputs": [
    {
     "data": {
      "text/plain": [
       "set"
      ]
     },
     "execution_count": 62,
     "metadata": {},
     "output_type": "execute_result"
    }
   ],
   "source": [
    "type(set1)"
   ]
  },
  {
   "cell_type": "code",
   "execution_count": 65,
   "id": "fc0829b8",
   "metadata": {},
   "outputs": [
    {
     "ename": "SyntaxError",
     "evalue": "invalid syntax (4027793569.py, line 1)",
     "output_type": "error",
     "traceback": [
      "\u001b[0;36m  File \u001b[0;32m\"/var/folders/79/c_hmcprj6h1cm6qndt4c15kh0000gn/T/ipykernel_8728/4027793569.py\"\u001b[0;36m, line \u001b[0;32m1\u001b[0m\n\u001b[0;31m    myset=set{1,2,3,4,5}\u001b[0m\n\u001b[0m             ^\u001b[0m\n\u001b[0;31mSyntaxError\u001b[0m\u001b[0;31m:\u001b[0m invalid syntax\n"
     ]
    }
   ],
   "source": [
    "myset=set{1,2,3,4,5}"
   ]
  },
  {
   "cell_type": "markdown",
   "id": "498c50d5",
   "metadata": {},
   "source": [
    "loop"
   ]
  },
  {
   "cell_type": "code",
   "execution_count": 68,
   "id": "23410f03",
   "metadata": {},
   "outputs": [
    {
     "name": "stdout",
     "output_type": "stream",
     "text": [
      "0\n",
      "1\n",
      "2\n",
      "3\n",
      "4\n",
      "5\n",
      "6\n",
      "7\n",
      "8\n",
      "9\n",
      "10\n",
      "11\n",
      "12\n",
      "13\n"
     ]
    }
   ],
   "source": [
    "j=0\n",
    "while(j<14):\n",
    "    print(j)\n",
    "    j=j+1"
   ]
  },
  {
   "cell_type": "code",
   "execution_count": 71,
   "id": "6eef0790",
   "metadata": {},
   "outputs": [
    {
     "name": "stdout",
     "output_type": "stream",
     "text": [
      "0\n",
      "Inside loop\n",
      "1\n",
      "Inside loop\n",
      "2\n",
      "Inside loop\n",
      "3\n",
      "Inside loop\n",
      "4\n",
      "Inside loop\n",
      "5\n",
      "Inside loop\n",
      "6\n",
      "Inside loop\n",
      "7\n",
      "Inside loop\n",
      "8\n",
      "Inside loop\n",
      "9\n",
      "Inside loop\n",
      "10\n",
      "Inside loop\n",
      "11\n",
      "Inside loop\n",
      "12\n",
      "Inside loop\n",
      "13\n",
      "Inside loop\n",
      "Loop End\n"
     ]
    }
   ],
   "source": [
    "j=0\n",
    "while(j<14):\n",
    "    print(j)\n",
    "    print(\"Inside loop\")\n",
    "    j=j+1\n",
    "print(\"Loop End\")"
   ]
  }
 ],
 "metadata": {
  "kernelspec": {
   "display_name": "Python 3 (ipykernel)",
   "language": "python",
   "name": "python3"
  },
  "language_info": {
   "codemirror_mode": {
    "name": "ipython",
    "version": 3
   },
   "file_extension": ".py",
   "mimetype": "text/x-python",
   "name": "python",
   "nbconvert_exporter": "python",
   "pygments_lexer": "ipython3",
   "version": "3.9.13"
  }
 },
 "nbformat": 4,
 "nbformat_minor": 5
}
