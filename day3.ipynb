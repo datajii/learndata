{
 "cells": [
  {
   "cell_type": "markdown",
   "id": "2e2077b0",
   "metadata": {},
   "source": [
    "# String concatenation - addition of string data"
   ]
  },
  {
   "cell_type": "code",
   "execution_count": 2,
   "id": "cecf020d",
   "metadata": {},
   "outputs": [
    {
     "data": {
      "text/plain": [
       "20"
      ]
     },
     "execution_count": 2,
     "metadata": {},
     "output_type": "execute_result"
    }
   ],
   "source": [
    "10+10"
   ]
  },
  {
   "cell_type": "code",
   "execution_count": 4,
   "id": "a16868b2",
   "metadata": {},
   "outputs": [
    {
     "data": {
      "text/plain": [
       "'jigarpathak'"
      ]
     },
     "execution_count": 4,
     "metadata": {},
     "output_type": "execute_result"
    }
   ],
   "source": [
    "'jigar'+'pathak'"
   ]
  },
  {
   "cell_type": "code",
   "execution_count": 6,
   "id": "4d7a67dc",
   "metadata": {},
   "outputs": [
    {
     "data": {
      "text/plain": [
       "'jigar pathak'"
      ]
     },
     "execution_count": 6,
     "metadata": {},
     "output_type": "execute_result"
    }
   ],
   "source": [
    "'jigar '+'pathak'"
   ]
  },
  {
   "cell_type": "code",
   "execution_count": 8,
   "id": "54ffbb43",
   "metadata": {},
   "outputs": [
    {
     "data": {
      "text/plain": [
       "'1010'"
      ]
     },
     "execution_count": 8,
     "metadata": {},
     "output_type": "execute_result"
    }
   ],
   "source": [
    "'10'+'10'"
   ]
  },
  {
   "cell_type": "markdown",
   "id": "8030a7a2",
   "metadata": {},
   "source": [
    "How to check type of data using type function"
   ]
  },
  {
   "cell_type": "code",
   "execution_count": 10,
   "id": "767f7bd6",
   "metadata": {},
   "outputs": [
    {
     "data": {
      "text/plain": [
       "int"
      ]
     },
     "execution_count": 10,
     "metadata": {},
     "output_type": "execute_result"
    }
   ],
   "source": [
    "type(5)"
   ]
  },
  {
   "cell_type": "code",
   "execution_count": 13,
   "id": "713ab810",
   "metadata": {},
   "outputs": [
    {
     "data": {
      "text/plain": [
       "str"
      ]
     },
     "execution_count": 13,
     "metadata": {},
     "output_type": "execute_result"
    }
   ],
   "source": [
    "type('jigar')"
   ]
  },
  {
   "cell_type": "code",
   "execution_count": 15,
   "id": "cd51cfb5",
   "metadata": {},
   "outputs": [
    {
     "data": {
      "text/plain": [
       "float"
      ]
     },
     "execution_count": 15,
     "metadata": {},
     "output_type": "execute_result"
    }
   ],
   "source": [
    "type(95.55\n",
    "    )"
   ]
  },
  {
   "cell_type": "code",
   "execution_count": 17,
   "id": "89494331",
   "metadata": {},
   "outputs": [
    {
     "data": {
      "text/plain": [
       "int"
      ]
     },
     "execution_count": 17,
     "metadata": {},
     "output_type": "execute_result"
    }
   ],
   "source": [
    "a=5\n",
    "type(a)"
   ]
  },
  {
   "cell_type": "code",
   "execution_count": 19,
   "id": "91705221",
   "metadata": {},
   "outputs": [
    {
     "data": {
      "text/plain": [
       "str"
      ]
     },
     "execution_count": 19,
     "metadata": {},
     "output_type": "execute_result"
    }
   ],
   "source": [
    "a='jigar'\n",
    "type(a)"
   ]
  },
  {
   "cell_type": "markdown",
   "id": "240f6ef0",
   "metadata": {},
   "source": [
    "Typecasting"
   ]
  },
  {
   "cell_type": "code",
   "execution_count": 22,
   "id": "cd7a6249",
   "metadata": {},
   "outputs": [
    {
     "data": {
      "text/plain": [
       "95.0"
      ]
     },
     "execution_count": 22,
     "metadata": {},
     "output_type": "execute_result"
    }
   ],
   "source": [
    "a=95\n",
    "float(a)"
   ]
  },
  {
   "cell_type": "code",
   "execution_count": 24,
   "id": "0ef718ad",
   "metadata": {},
   "outputs": [
    {
     "data": {
      "text/plain": [
       "str"
      ]
     },
     "execution_count": 24,
     "metadata": {},
     "output_type": "execute_result"
    }
   ],
   "source": [
    "city='Bengaluru'\n",
    "type(city)"
   ]
  },
  {
   "cell_type": "code",
   "execution_count": 28,
   "id": "9064914a",
   "metadata": {},
   "outputs": [
    {
     "data": {
      "text/plain": [
       "int"
      ]
     },
     "execution_count": 28,
     "metadata": {},
     "output_type": "execute_result"
    }
   ],
   "source": [
    "b=10\n",
    "type(b)"
   ]
  },
  {
   "cell_type": "code",
   "execution_count": 30,
   "id": "c731fc58",
   "metadata": {},
   "outputs": [
    {
     "data": {
      "text/plain": [
       "10.0"
      ]
     },
     "execution_count": 30,
     "metadata": {},
     "output_type": "execute_result"
    }
   ],
   "source": [
    "float(b)"
   ]
  },
  {
   "cell_type": "code",
   "execution_count": 32,
   "id": "a5ede77f",
   "metadata": {},
   "outputs": [
    {
     "data": {
      "text/plain": [
       "10"
      ]
     },
     "execution_count": 32,
     "metadata": {},
     "output_type": "execute_result"
    }
   ],
   "source": [
    "int(b)"
   ]
  },
  {
   "cell_type": "code",
   "execution_count": 34,
   "id": "2a054052",
   "metadata": {},
   "outputs": [
    {
     "data": {
      "text/plain": [
       "int"
      ]
     },
     "execution_count": 34,
     "metadata": {},
     "output_type": "execute_result"
    }
   ],
   "source": [
    "type(b)"
   ]
  },
  {
   "cell_type": "code",
   "execution_count": 38,
   "id": "dae46162",
   "metadata": {},
   "outputs": [
    {
     "data": {
      "text/plain": [
       "30"
      ]
     },
     "execution_count": 38,
     "metadata": {},
     "output_type": "execute_result"
    }
   ],
   "source": [
    "a='10'\n",
    "b='20'\n",
    "type(a)\n",
    "type(b)\n",
    "int(a)+int(b)"
   ]
  },
  {
   "cell_type": "code",
   "execution_count": 52,
   "id": "6207c5bc",
   "metadata": {},
   "outputs": [
    {
     "data": {
      "text/plain": [
       "float"
      ]
     },
     "execution_count": 52,
     "metadata": {},
     "output_type": "execute_result"
    }
   ],
   "source": [
    "b='555.55'\n",
    "c=float(b)\n",
    "c\n",
    "type(c)\n"
   ]
  },
  {
   "cell_type": "code",
   "execution_count": null,
   "id": "0cda227b",
   "metadata": {},
   "outputs": [],
   "source": [
    "type(b)"
   ]
  },
  {
   "cell_type": "code",
   "execution_count": 3,
   "id": "1a497aab",
   "metadata": {},
   "outputs": [
    {
     "name": "stdout",
     "output_type": "stream",
     "text": [
      "Enter value of x5\n"
     ]
    },
    {
     "data": {
      "text/plain": [
       "'5'"
      ]
     },
     "execution_count": 3,
     "metadata": {},
     "output_type": "execute_result"
    }
   ],
   "source": [
    "x=input(\"Enter value of x\")\n",
    "x"
   ]
  },
  {
   "cell_type": "code",
   "execution_count": 5,
   "id": "828f58c9",
   "metadata": {},
   "outputs": [
    {
     "name": "stdout",
     "output_type": "stream",
     "text": [
      "Enter value of y5\n"
     ]
    },
    {
     "data": {
      "text/plain": [
       "'5'"
      ]
     },
     "execution_count": 5,
     "metadata": {},
     "output_type": "execute_result"
    }
   ],
   "source": [
    "y=input(\"Enter value of y\")\n",
    "y"
   ]
  },
  {
   "cell_type": "code",
   "execution_count": 7,
   "id": "59cba299",
   "metadata": {},
   "outputs": [
    {
     "data": {
      "text/plain": [
       "'55'"
      ]
     },
     "execution_count": 7,
     "metadata": {},
     "output_type": "execute_result"
    }
   ],
   "source": [
    "x+y"
   ]
  },
  {
   "cell_type": "code",
   "execution_count": 10,
   "id": "e83c95fc",
   "metadata": {},
   "outputs": [
    {
     "data": {
      "text/plain": [
       "10"
      ]
     },
     "execution_count": 10,
     "metadata": {},
     "output_type": "execute_result"
    }
   ],
   "source": [
    "int(x)+int(y)"
   ]
  },
  {
   "cell_type": "code",
   "execution_count": 12,
   "id": "42a940f8",
   "metadata": {},
   "outputs": [
    {
     "name": "stdout",
     "output_type": "stream",
     "text": [
      "Enter value of x5\n"
     ]
    },
    {
     "data": {
      "text/plain": [
       "5"
      ]
     },
     "execution_count": 12,
     "metadata": {},
     "output_type": "execute_result"
    }
   ],
   "source": [
    "x=int(input(\"Enter value of x\"))\n",
    "x"
   ]
  },
  {
   "cell_type": "code",
   "execution_count": 14,
   "id": "69e01352",
   "metadata": {},
   "outputs": [
    {
     "data": {
      "text/plain": [
       "int"
      ]
     },
     "execution_count": 14,
     "metadata": {},
     "output_type": "execute_result"
    }
   ],
   "source": [
    "type(x)"
   ]
  },
  {
   "cell_type": "code",
   "execution_count": 16,
   "id": "9348ef20",
   "metadata": {},
   "outputs": [
    {
     "name": "stdout",
     "output_type": "stream",
     "text": [
      "Enter value of x99.99\n"
     ]
    },
    {
     "data": {
      "text/plain": [
       "99.99"
      ]
     },
     "execution_count": 16,
     "metadata": {},
     "output_type": "execute_result"
    }
   ],
   "source": [
    "x=float(input(\"Enter value of x\"))\n",
    "x"
   ]
  },
  {
   "cell_type": "code",
   "execution_count": 18,
   "id": "59ccf193",
   "metadata": {},
   "outputs": [
    {
     "data": {
      "text/plain": [
       "float"
      ]
     },
     "execution_count": 18,
     "metadata": {},
     "output_type": "execute_result"
    }
   ],
   "source": [
    "type(x)"
   ]
  },
  {
   "cell_type": "markdown",
   "id": "d8a22e5d",
   "metadata": {},
   "source": [
    "area of rectanble"
   ]
  },
  {
   "cell_type": "code",
   "execution_count": 19,
   "id": "48cd8ab1",
   "metadata": {},
   "outputs": [
    {
     "name": "stdout",
     "output_type": "stream",
     "text": [
      "Enter length50\n"
     ]
    }
   ],
   "source": [
    "l=int(input(\"Enter length\"))"
   ]
  },
  {
   "cell_type": "code",
   "execution_count": 20,
   "id": "5f4cc27a",
   "metadata": {},
   "outputs": [
    {
     "name": "stdout",
     "output_type": "stream",
     "text": [
      "Enter breadth30\n"
     ]
    }
   ],
   "source": [
    "b=int(input(\"Enter breadth\"))"
   ]
  },
  {
   "cell_type": "code",
   "execution_count": 22,
   "id": "d9addce7",
   "metadata": {},
   "outputs": [
    {
     "data": {
      "text/plain": [
       "1500"
      ]
     },
     "execution_count": 22,
     "metadata": {},
     "output_type": "execute_result"
    }
   ],
   "source": [
    "a=l*b\n",
    "a"
   ]
  },
  {
   "cell_type": "code",
   "execution_count": 23,
   "id": "e11ebeee",
   "metadata": {},
   "outputs": [
    {
     "name": "stdout",
     "output_type": "stream",
     "text": [
      "The total area of rectangle is 1500\n"
     ]
    }
   ],
   "source": [
    "print(\"The total area of rectangle is\",a)"
   ]
  },
  {
   "cell_type": "code",
   "execution_count": 24,
   "id": "f68cf74f",
   "metadata": {},
   "outputs": [
    {
     "name": "stdout",
     "output_type": "stream",
     "text": [
      "Enter length = 50\n",
      "Enter breadth= 30\n",
      "The total area of rectangle is 1500\n"
     ]
    }
   ],
   "source": [
    "l=int(input(\"Enter length = \"))\n",
    "b=int(input(\"Enter breadth= \"))\n",
    "a=l*b\n",
    "print(\"The total area of rectangle is\",a)"
   ]
  },
  {
   "cell_type": "code",
   "execution_count": 26,
   "id": "3ff20107",
   "metadata": {},
   "outputs": [
    {
     "name": "stdout",
     "output_type": "stream",
     "text": [
      "Enter length = 10\n",
      "Enter breadth= 30\n",
      "The total area of rectangle is 300.0\n"
     ]
    }
   ],
   "source": [
    "l=float(input(\"Enter length = \"))\n",
    "b=int(input(\"Enter breadth= \"))\n",
    "a=l*b\n",
    "print(\"The total area of rectangle is\",a)"
   ]
  },
  {
   "cell_type": "code",
   "execution_count": 30,
   "id": "0ae4d011",
   "metadata": {},
   "outputs": [
    {
     "name": "stdout",
     "output_type": "stream",
     "text": [
      "Enter length = 2.5\n",
      "Enter breadth= 3\n",
      "The total area of rectangle is 7\n"
     ]
    }
   ],
   "source": [
    "l=float(input(\"Enter length = \"))\n",
    "b=int(input(\"Enter breadth= \"))\n",
    "a=l*b\n",
    "print(\"The total area of rectangle is\",int(a))"
   ]
  },
  {
   "cell_type": "markdown",
   "id": "e577891f",
   "metadata": {},
   "source": [
    "area of circle"
   ]
  },
  {
   "cell_type": "code",
   "execution_count": 36,
   "id": "67731207",
   "metadata": {},
   "outputs": [
    {
     "name": "stdout",
     "output_type": "stream",
     "text": [
      "Enter readius =5\n",
      "Area of circle with 5 is = 78.5\n"
     ]
    }
   ],
   "source": [
    "pi=3.14\n",
    "r=int(input(\"Enter readius =\"))\n",
    "ac=pi*r**2\n",
    "print(\"Area of circle with\",r,\"is =\",ac)"
   ]
  },
  {
   "cell_type": "markdown",
   "id": "eaefc7e3",
   "metadata": {},
   "source": [
    "Data Structures in Python\n",
    "\n",
    "1. List\n",
    "indexed\n",
    "ordered\n",
    "mutable \n",
    "allows duplicate values\n",
    "\n",
    "2. Tupples\n",
    "\n",
    "indexed\n",
    "ordered\n",
    "immutable \n",
    "\n",
    "3. Dictionary\n",
    "\n",
    "key-value pair\n",
    "mutable \n",
    "\n",
    "4. Sets\n",
    "\n",
    "Unordered\n",
    "Unindexed\n",
    "immutable\n",
    "not allow duplicate values"
   ]
  },
  {
   "cell_type": "code",
   "execution_count": 41,
   "id": "46ad8493",
   "metadata": {},
   "outputs": [
    {
     "data": {
      "text/plain": [
       "[1, 2, 3, 4, 5]"
      ]
     },
     "execution_count": 41,
     "metadata": {},
     "output_type": "execute_result"
    }
   ],
   "source": [
    "list=[1,2,3,4,5]\n",
    "list"
   ]
  },
  {
   "cell_type": "code",
   "execution_count": 46,
   "id": "2a75e5c2",
   "metadata": {},
   "outputs": [
    {
     "data": {
      "text/plain": [
       "[1, 'A', 3.3, 'jigar', True, False]"
      ]
     },
     "execution_count": 46,
     "metadata": {},
     "output_type": "execute_result"
    }
   ],
   "source": [
    "list=[1,\"A\",3.3,\"jigar\",True,False]\n",
    "list"
   ]
  },
  {
   "cell_type": "markdown",
   "id": "b1aced87",
   "metadata": {},
   "source": [
    "list store homogeneous as well as heterogeneous"
   ]
  },
  {
   "cell_type": "markdown",
   "id": "195f5e97",
   "metadata": {},
   "source": [
    "list starts from left 0 to N right "
   ]
  },
  {
   "cell_type": "code",
   "execution_count": 48,
   "id": "1e0114bf",
   "metadata": {},
   "outputs": [
    {
     "data": {
      "text/plain": [
       "False"
      ]
     },
     "execution_count": 48,
     "metadata": {},
     "output_type": "execute_result"
    }
   ],
   "source": [
    "list[5]"
   ]
  },
  {
   "cell_type": "code",
   "execution_count": 50,
   "id": "934a1ad5",
   "metadata": {},
   "outputs": [
    {
     "data": {
      "text/plain": [
       "1"
      ]
     },
     "execution_count": 50,
     "metadata": {},
     "output_type": "execute_result"
    }
   ],
   "source": [
    "list[0]"
   ]
  },
  {
   "cell_type": "code",
   "execution_count": 52,
   "id": "4e80b212",
   "metadata": {},
   "outputs": [
    {
     "data": {
      "text/plain": [
       "'jigar'"
      ]
     },
     "execution_count": 52,
     "metadata": {},
     "output_type": "execute_result"
    }
   ],
   "source": [
    "list[3]"
   ]
  },
  {
   "cell_type": "markdown",
   "id": "6efe5713",
   "metadata": {},
   "source": [
    "Slicing\n",
    "\n",
    "list[\"jigar\",\"riddhi\",\"pranshu\",\"silvassa\",\"bangalore\"]\n",
    "\n",
    "list[0,1,2,3,4] <--- indexing\n",
    "\n",
    "list[start index:end index]\n",
    "\n",
    "list[1] << value is \"riddhi\"\n",
    "list[4] <<< value if \"bangalore\"\n",
    "\n",
    "start index - inclusive\n",
    "end index - exclusive\n",
    "\n"
   ]
  },
  {
   "cell_type": "code",
   "execution_count": 56,
   "id": "3ae1338c",
   "metadata": {},
   "outputs": [
    {
     "data": {
      "text/plain": [
       "['jigar', 'riddhi', 'pranshu', 'silvassa', 'bangalore']"
      ]
     },
     "execution_count": 56,
     "metadata": {},
     "output_type": "execute_result"
    }
   ],
   "source": [
    "list=[\"jigar\",\"riddhi\",\"pranshu\",\"silvassa\",\"bangalore\"]\n",
    "list"
   ]
  },
  {
   "cell_type": "code",
   "execution_count": 59,
   "id": "da13e19a",
   "metadata": {},
   "outputs": [
    {
     "data": {
      "text/plain": [
       "['riddhi', 'pranshu', 'silvassa']"
      ]
     },
     "execution_count": 59,
     "metadata": {},
     "output_type": "execute_result"
    }
   ],
   "source": [
    "list[1:4]"
   ]
  },
  {
   "cell_type": "code",
   "execution_count": 61,
   "id": "5bca0d2a",
   "metadata": {},
   "outputs": [
    {
     "data": {
      "text/plain": [
       "['jigar']"
      ]
     },
     "execution_count": 61,
     "metadata": {},
     "output_type": "execute_result"
    }
   ],
   "source": [
    "list[0:1]"
   ]
  },
  {
   "cell_type": "code",
   "execution_count": 63,
   "id": "82632326",
   "metadata": {},
   "outputs": [
    {
     "data": {
      "text/plain": [
       "['jigar', 'riddhi']"
      ]
     },
     "execution_count": 63,
     "metadata": {},
     "output_type": "execute_result"
    }
   ],
   "source": [
    "list[0:2]"
   ]
  },
  {
   "cell_type": "code",
   "execution_count": 65,
   "id": "7bcae539",
   "metadata": {},
   "outputs": [
    {
     "data": {
      "text/plain": [
       "['riddhi', 'pranshu', 'silvassa', 'bangalore']"
      ]
     },
     "execution_count": 65,
     "metadata": {},
     "output_type": "execute_result"
    }
   ],
   "source": [
    "list[1:]"
   ]
  },
  {
   "cell_type": "code",
   "execution_count": 67,
   "id": "bd5bed67",
   "metadata": {},
   "outputs": [
    {
     "data": {
      "text/plain": [
       "['jigar', 'riddhi', 'pranshu', 'silvassa', 'bangalore']"
      ]
     },
     "execution_count": 67,
     "metadata": {},
     "output_type": "execute_result"
    }
   ],
   "source": [
    "list[:]"
   ]
  },
  {
   "cell_type": "code",
   "execution_count": 69,
   "id": "556a7c13",
   "metadata": {},
   "outputs": [
    {
     "data": {
      "text/plain": [
       "['jigar', 'riddhi', 'pranshu', 'silvassa', 'bangalore']"
      ]
     },
     "execution_count": 69,
     "metadata": {},
     "output_type": "execute_result"
    }
   ],
   "source": [
    "list[0:]"
   ]
  },
  {
   "cell_type": "code",
   "execution_count": 71,
   "id": "57664885",
   "metadata": {},
   "outputs": [
    {
     "data": {
      "text/plain": [
       "['jigar', 'riddhi', 'pranshu', 'silvassa', 'bangalore']"
      ]
     },
     "execution_count": 71,
     "metadata": {},
     "output_type": "execute_result"
    }
   ],
   "source": [
    "list[:5]"
   ]
  }
 ],
 "metadata": {
  "kernelspec": {
   "display_name": "Python 3 (ipykernel)",
   "language": "python",
   "name": "python3"
  },
  "language_info": {
   "codemirror_mode": {
    "name": "ipython",
    "version": 3
   },
   "file_extension": ".py",
   "mimetype": "text/x-python",
   "name": "python",
   "nbconvert_exporter": "python",
   "pygments_lexer": "ipython3",
   "version": "3.9.13"
  }
 },
 "nbformat": 4,
 "nbformat_minor": 5
}
